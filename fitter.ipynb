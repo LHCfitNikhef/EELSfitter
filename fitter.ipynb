{
 "cells": [
  {
   "cell_type": "markdown",
   "metadata": {},
   "source": [
    "## 0.  Import libraries"
   ]
  },
  {
   "cell_type": "code",
   "execution_count": 1,
   "metadata": {},
   "outputs": [
    {
     "name": "stdout",
     "output_type": "stream",
     "text": [
      "Importing packages...\n",
      "done\n"
     ]
    }
   ],
   "source": [
    "print('Importing packages...')\n",
    "\n",
    "import numpy as np\n",
    "import pandas as pd\n",
    "import matplotlib.pyplot as plt\n",
    "import matplotlib\n",
    "from matplotlib import rc\n",
    "from matplotlib import cm\n",
    "import os\n",
    "import csv\n",
    "import warnings\n",
    "import time\n",
    "import multiprocessing as mp\n",
    "from multiprocess import Pool\n",
    "from multiprocess import Process\n",
    "from copy import copy\n",
    "from sklearn.model_selection import train_test_split\n",
    "from sklearn.preprocessing import StandardScaler\n",
    "import tensorflow as tf\n",
    "from tensorflow import keras\n",
    "from tensorflow.keras import Sequential\n",
    "from tensorflow.keras import layers\n",
    "from tensorflow.keras import optimizers\n",
    "from tensorflow.keras.layers import Dense\n",
    "import tensorflow.compat.v1 as tf\n",
    "\n",
    "warnings.filterwarnings('ignore')\n",
    "print('done')"
   ]
  },
  {
   "cell_type": "markdown",
   "metadata": {},
   "source": [
    "## 0. Import spectra"
   ]
  },
  {
   "cell_type": "code",
   "execution_count": 2,
   "metadata": {},
   "outputs": [
    {
     "name": "stdout",
     "output_type": "stream",
     "text": [
      "Importing datafiles...\n",
      "Files have been created \n",
      "\n",
      "\n",
      " Sample files:\n",
      "file14\n",
      "file15\n",
      "file16\n",
      "file19\n",
      "file20\n",
      "file21\n",
      "\n",
      " Vacuum files:\n",
      "file17\n",
      "file22\n",
      "file23\n",
      "\n",
      " Total samples file: \"df\" \n",
      "                   x             y     x_shifted        y_norm         log_y\n",
      "count  11886.000000  1.188600e+04  11886.000000  11886.000000  11886.000000\n",
      "mean      20.708500  2.943846e+04     20.750000      0.020192      8.097109\n",
      "std       14.297236  1.957346e+05     14.297236      0.134208      1.210722\n",
      "min       -4.041500  2.765300e+02     -4.000000      0.000190      5.622319\n",
      "25%        8.333500  1.351622e+03      8.375000      0.000932      7.209061\n",
      "50%       20.708500  3.076860e+03     20.750000      0.002106      8.031665\n",
      "75%       33.083500  5.665987e+03     33.125000      0.003879      8.642236\n",
      "max       45.458500  2.440470e+06     45.500000      1.640224     14.707701\n",
      "\n",
      " Total vacuum file: \"df_vacuum\" \n",
      "                  x             y    x_shifted       y_norm\n",
      "count  5943.000000  5.943000e+03  5943.000000  5943.000000\n",
      "mean     20.708500  3.373210e+04    20.750000     0.020192\n",
      "std      14.297837  2.576468e+05    14.297837     0.154224\n",
      "min      -4.041500 -1.340900e+02    -4.000000    -0.000080\n",
      "25%       8.333500  2.522015e+01     8.375000     0.000015\n",
      "50%      20.708500  7.105610e+01    20.750000     0.000042\n",
      "75%      33.083500  1.612730e+02    33.125000     0.000096\n",
      "max      45.458500  3.170580e+06    45.500000     1.887750\n",
      "done\n"
     ]
    }
   ],
   "source": [
    "print('Importing datafiles...')\n",
    "%run Load_data.py\n",
    "%run Functions.py\n",
    "print('done')"
   ]
  },
  {
   "cell_type": "code",
   "execution_count": null,
   "metadata": {},
   "outputs": [],
   "source": []
  },
  {
   "cell_type": "code",
   "execution_count": null,
   "metadata": {},
   "outputs": [],
   "source": [
    "\n",
    "\n"
   ]
  },
  {
   "cell_type": "markdown",
   "metadata": {},
   "source": [
    "## 1. Derivatives ($\\Delta$E$_I$)\n",
    "In order to determine the values for $\\Delta$E$_I$ and $\\Delta$E$_{II}$, we calculate the derivatives of the intensity of each spectrum with respect to the change energy loss. We use the function 'smooth(y, window_len)' to smooth the functions and reveal underlying trends."
   ]
  },
  {
   "cell_type": "code",
   "execution_count": null,
   "metadata": {},
   "outputs": [],
   "source": []
  },
  {
   "cell_type": "code",
   "execution_count": 3,
   "metadata": {},
   "outputs": [],
   "source": [
    "wl1 = 50\n",
    "wl2 = 100\n",
    "\n",
    "df_dx = pd.DataFrame()\n",
    "\n",
    "all_files = [file14, file15, file16, file17, file19, file20, file21, file22, file23]\n",
    "\n",
    "for i,j in enumerate([14,15,16,17,19,20,21,22,23]):\n",
    "    df_dx['x%(j)s' % {\"j\": j}]  =  all_files[i]['x_shifted']\n",
    "    df_dx['y%(j)s' % {\"j\": j}]  =  smooth(all_files[i]['y_norm'], wl1)\n",
    "    df_dx['derivative y%(j)s' %{\"j\": j}] = np.divide(df_dx['y%(j)s'% {\"j\": j}].diff(), \\\n",
    "                                                     df_dx['x%(j)s'% {\"j\": j}].diff())\n",
    "    df_dx['smooth derivative y%(j)s' %{\"j\": j}] = smooth(df_dx['derivative y%(j)s' %{\"j\": j}], wl2)\n",
    "    "
   ]
  },
  {
   "cell_type": "markdown",
   "metadata": {},
   "source": [
    "Determine the first crossing with zero of the in-sample derivatives $\\Delta E_{I,min}$:"
   ]
  },
  {
   "cell_type": "code",
   "execution_count": 4,
   "metadata": {},
   "outputs": [
    {
     "name": "stdout",
     "output_type": "stream",
     "text": [
      "The value of dE1 is 2.65\n"
     ]
    }
   ],
   "source": [
    "li = []\n",
    "\n",
    "for i in ([14,15,16,19,20,21]):\n",
    "    crossing = df_dx[(df_dx['derivative y%(i)s' %{\"i\": i}] > 0) & (df_dx['x%(i)s'% {\"i\": i}] > 1)]['x%(i)s'% {\"i\": i}].min()\n",
    "    li.append(crossing)\n",
    "    \n",
    "dE1 = min(li)\n",
    "dE1_min = np.round(dE1, 3)\n",
    "print(\"The value of dE1 is\", dE1_min)\n"
   ]
  },
  {
   "cell_type": "markdown",
   "metadata": {},
   "source": [
    "### Create plot of the derivatives"
   ]
  },
  {
   "cell_type": "code",
   "execution_count": 5,
   "metadata": {},
   "outputs": [
    {
     "name": "stderr",
     "output_type": "stream",
     "text": [
      "findfont: Font family ['sans-serif'] not found. Falling back to DejaVu Sans.\n",
      "findfont: Font family ['sans-serif'] not found. Falling back to DejaVu Sans.\n",
      "findfont: Font family ['sans-serif'] not found. Falling back to DejaVu Sans.\n",
      "findfont: Font family ['sans-serif'] not found. Falling back to DejaVu Sans.\n"
     ]
    },
    {
     "data": {
      "image/png": "[encoded data removed]",
      "text/plain": [
       "<Figure size 504x972 with 2 Axes>"
      ]
     },
     "metadata": {
      "needs_background": "light"
     },
     "output_type": "display_data"
    }
   ],
   "source": [
    "nrows, ncols = 3,1\n",
    "gs = matplotlib.gridspec.GridSpec(nrows,ncols)\n",
    "plt.figure(figsize=(ncols*7,nrows*4.5))\n",
    "\n",
    "cm_subsection = np.linspace(0,1,24) \n",
    "colors = [cm.viridis(x) for x in cm_subsection]\n",
    "\n",
    "hfont = rc('font',**{'family':'sans-serif','sans-serif':['Sans Serif']})\n",
    "          \n",
    "for i in range(2):\n",
    "    ax = plt.subplot(gs[i])\n",
    "    ax.set_xlim([0,9])\n",
    "    ax.tick_params(which='major',direction='in',length=7)\n",
    "    ax.tick_params(which='minor',length=8)\n",
    "    plt.axhline(y=0, color='black', linewidth=1, alpha=.8)\n",
    "    plt.axvline(x=0, color='darkgray', linestyle='--', linewidth = 1)\n",
    "    #plt.axvline(x=dE1, color='darkgray', linestyle='--', linewidth = 1, label='$\\Delta$E1' %{'s': dE1})\n",
    "    \n",
    "    for j in ([17,22,23]):\n",
    "        if i == 0:\n",
    "            p2 = ax.plot(df_dx['x%(i)s'% {\"i\": j}],df_dx['derivative y%(i)s' %{\"i\": j}], color=colors[j], label='%(i)s' %{\"i\": j})\n",
    "\n",
    "    for j in ([14,15,16,19,20,21]):\n",
    "        k = j-3\n",
    "        \n",
    "        if i == 0:\n",
    "            p1 = ax.plot(df_dx['x%(i)s'% {\"i\": j}],df_dx['derivative y%(i)s' %{\"i\": j}], color=colors[-k], label='%(i)s' %{\"i\": j})\n",
    "            ax.set_ylim([-.002, .001])\n",
    "            ax.set_xlim([0, 6])\n",
    "            ax.set_ylabel('dI/dE',fontsize=18)\n",
    "            ax.set_yticks([-0.002, -0.001, 0, 0.001])\n",
    "            ax.ticklabel_format(style='sci', axis='y', scilimits=(0,0))\n",
    "            ax.legend(loc=2, fontsize=16)\n",
    "        \n",
    "    for j in ([17,22,23]):   \n",
    "        if i == 1: \n",
    "            ax.axhline(y=1, linestyle='-', color='gray')\n",
    "            p1 = ax.plot(df_dx['x%(i)s'% {\"i\": j}], \\\n",
    "                         np.divide(df_dx['derivative y14'],df_dx['derivative y%(i)s'%{\"i\": j}]), 'k--', label='Ratio sp4/sp'%{\"i\":j})\n",
    "            \n",
    "            ax.axvline(x=1.65, linestyle='--')\n",
    "            ax.set_ylim([-1, 2])\n",
    "            ax.set_xlim([.5,3.5])   \n",
    "            ax.set_ylabel('R = dI/dE(sample) / dI/dE(vac)', fontsize=18)\n",
    "            ax.set_xlabel('$\\Delta$E (eV)', fontsize=218)\n",
    "            ax.legend()  \n",
    "    \n",
    "    if i == 0:\n",
    "        ax.tick_params(labelbottom=True)\n",
    "        ax.tick_params(which='major', length= 10, labelsize=18)\n",
    "        ax.tick_params(which='minor', length= 10, labelsize=10)\n",
    "    if i == 1:\n",
    "        ax.set_xlabel('Energy loss (eV)', fontsize=24)\n",
    "        ax.tick_params(length= 10, labelsize=18)\n",
    "        ax.tick_params(which='major', length= 10, labelsize=18)\n",
    "        ax.tick_params(which='minor', length= 10, labelsize=10)\n",
    "    \n",
    "plt.tight_layout()\n",
    "#plt.savefig(\"Derivatives.pdf\")\n",
    "plt.show()"
   ]
  },
  {
   "cell_type": "markdown",
   "metadata": {},
   "source": [
    "## 2. Where to add pseudo data? ($\\Delta E_{II} = \\Delta E_{pd,min}$ )"
   ]
  },
  {
   "cell_type": "code",
   "execution_count": 6,
   "metadata": {},
   "outputs": [
    {
     "name": "stdout",
     "output_type": "stream",
     "text": [
      "The value for dE_II is 11.0\n"
     ]
    }
   ],
   "source": [
    "df_vacmean = pd.DataFrame()\n",
    "nbins = 150\n",
    "df_vacuum = df_vacuum[(df_vacuum['x_shifted'] < 20) & (df_vacuum['x_shifted'] > -.5)]\n",
    "df_vacmean['x'] = np.linspace(df_vacuum['x_shifted'].min(),df_vacuum['x_shifted'].max(), nbins)\n",
    "df_vacmean['y'], df_vacmean['sigma'] = binned_statistics(df_vacuum['x_shifted'], (df_vacuum['y']), nbins)[0:2]\n",
    "df_vacmean['ratio'] = np.divide(df_vacmean['y'], df_vacmean['sigma'])\n",
    "\n",
    "dE2 = df_vacmean['x'][df_vacmean['ratio'] < 1].min()\n",
    "dE2 = np.round(dE2)\n",
    "print(\"The value for dE_II is\", (dE2))"
   ]
  },
  {
   "cell_type": "code",
   "execution_count": 7,
   "metadata": {},
   "outputs": [
    {
     "name": "stderr",
     "output_type": "stream",
     "text": [
      "findfont: Font family ['sans-serif'] not found. Falling back to DejaVu Sans.\n"
     ]
    },
    {
     "data": {
      "image/png": "[encoded data removed]",
      "text/plain": [
       "<Figure size 360x252 with 1 Axes>"
      ]
     },
     "metadata": {
      "needs_background": "light"
     },
     "output_type": "display_data"
    }
   ],
   "source": [
    "nrows, ncols = 1,1\n",
    "gs = matplotlib.gridspec.GridSpec(nrows,ncols)\n",
    "plt.figure(figsize=(ncols*5,nrows*3.5))\n",
    "\n",
    "cm_subsection = np.linspace(0,1,24) \n",
    "colors = [cm.viridis(x) for x in cm_subsection]\n",
    "\n",
    "hfont = rc('font',**{'family':'sans-serif','sans-serif':['Sans Serif']})\n",
    "\n",
    "ax = plt.subplot(gs[0])\n",
    "ax.set_title('Intensity to sigma ratio', fontsize=16)\n",
    "ax.set_xlim([-1,15])\n",
    "ax.set_xlabel('Energy loss (eV)', fontsize=14)\n",
    "ax.tick_params(which='major',direction='in',length=7, labelsize=14)\n",
    "ax.tick_params(which='minor',length=8)\n",
    "p1 = ax.plot(df_vacmean['x'],smooth(np.divide(df_vacmean['y'], df_vacmean['sigma']), 10), color=colors[0])\n",
    "ax.axhline(y=1, linestyle='-')\n",
    "ax.axvline(x=dE2, linestyle='dotted', linewidth='2')\n",
    "plt.show()"
   ]
  },
  {
   "cell_type": "code",
   "execution_count": null,
   "metadata": {},
   "outputs": [],
   "source": []
  },
  {
   "cell_type": "code",
   "execution_count": 8,
   "metadata": {},
   "outputs": [
    {
     "name": "stdout",
     "output_type": "stream",
     "text": [
      "The values of dE1 and dE2: 2.65 eV and 11.0 eV\n"
     ]
    }
   ],
   "source": [
    "print('The values of dE1 and dE2:', np.round(dE1,2), \"eV and\", dE2, \"eV\")"
   ]
  },
  {
   "cell_type": "markdown",
   "metadata": {},
   "source": [
    "### If one wishes to adjust the value for dE1, do it below:"
   ]
  },
  {
   "cell_type": "code",
   "execution_count": 9,
   "metadata": {},
   "outputs": [],
   "source": [
    "dE1 = 1.9\n",
    "dE2 = 12"
   ]
  },
  {
   "cell_type": "code",
   "execution_count": 10,
   "metadata": {},
   "outputs": [
    {
     "name": "stdout",
     "output_type": "stream",
     "text": [
      "The values of dE1 and dE2: 1.9 eV and 12 eV\n"
     ]
    }
   ],
   "source": [
    "print('The values of dE1 and dE2:', np.round(dE1,2), \"eV and\", dE2, \"eV\")"
   ]
  },
  {
   "cell_type": "markdown",
   "metadata": {},
   "source": [
    "## 3. Window and prepare data \n",
    "* Drop all data for $\\Delta$E $> \\Delta$E$_1$\n",
    "* Calculate the binned mean and variance of the spectra together with the function 'binned_statistics(x,y,nbins)'\n",
    "* Returns two pd.DataFrames 'df_mean' and 'df_vacmean' with the mean and variance data of the in-sample and in-vacuum spectra\n",
    "\n"
   ]
  },
  {
   "cell_type": "code",
   "execution_count": 11,
   "metadata": {},
   "outputs": [
    {
     "name": "stdout",
     "output_type": "stream",
     "text": [
      "Training data points for DeltaE > DeltaE_I have been removed.\n",
      "Experimental mean and sigma are calculated.\n"
     ]
    }
   ],
   "source": [
    "df_window = df[(df['x_shifted'] < dE1) & (df['x_shifted'] > -.5)]\n",
    "df_window_vacuum = df_vacuum[(df_vacuum['x_shifted'] <= dE1) & (df_vacuum['x_shifted'] > -.5)]\n",
    "\n",
    "df_mean, df_vacmean = pd.DataFrame(), pd.DataFrame()\n",
    "nbins = 30\n",
    "\n",
    "df_mean['x'] = np.linspace(df_window['x_shifted'].min(),df_window['x_shifted'].max(), nbins)\n",
    "df_mean['y'], df_mean['sigma'] = binned_statistics(df_window['x_shifted'], np.log(df_window['y']), nbins)[0:2]\n",
    "\n",
    "df_vacmean['x'] = np.linspace(df_window_vacuum['x_shifted'].min(),df_window_vacuum['x_shifted'].max(), nbins)\n",
    "df_vacmean['y'], df_vacmean['sigma'] = binned_statistics(df_window_vacuum['x_shifted'], np.log(df_window_vacuum['y']), nbins)[0:2]\n",
    "\n",
    "print(\"Training data points for DeltaE > DeltaE_I have been removed.\")\n",
    "print(\"Experimental mean and sigma are calculated.\")"
   ]
  },
  {
   "cell_type": "markdown",
   "metadata": {},
   "source": [
    "### Create pseudo data for $\\Delta$E $ > \\Delta$E$_{II}$"
   ]
  },
  {
   "cell_type": "code",
   "execution_count": 12,
   "metadata": {},
   "outputs": [
    {
     "name": "stdout",
     "output_type": "stream",
     "text": [
      "Pseudo data points added for Delta E > DeltaE_II\n",
      "Training data set \"df_full\" has been created\n"
     ]
    },
    {
     "data": {
      "text/html": [
       "<div>\n",
       "<style scoped>\n",
       "    .dataframe tbody tr th:only-of-type {\n",
       "        vertical-align: middle;\n",
       "    }\n",
       "\n",
       "    .dataframe tbody tr th {\n",
       "        vertical-align: top;\n",
       "    }\n",
       "\n",
       "    .dataframe thead th {\n",
       "        text-align: right;\n",
       "    }\n",
       "</style>\n",
       "<table border=\"1\" class=\"dataframe\">\n",
       "  <thead>\n",
       "    <tr style=\"text-align: right;\">\n",
       "      <th></th>\n",
       "      <th>x</th>\n",
       "      <th>y</th>\n",
       "      <th>sigma</th>\n",
       "    </tr>\n",
       "  </thead>\n",
       "  <tbody>\n",
       "    <tr>\n",
       "      <th>count</th>\n",
       "      <td>50.000000</td>\n",
       "      <td>50.000000</td>\n",
       "      <td>50.000000</td>\n",
       "    </tr>\n",
       "    <tr>\n",
       "      <th>mean</th>\n",
       "      <td>6.012500</td>\n",
       "      <td>7.217786</td>\n",
       "      <td>0.086907</td>\n",
       "    </tr>\n",
       "    <tr>\n",
       "      <th>std</th>\n",
       "      <td>6.656621</td>\n",
       "      <td>5.770528</td>\n",
       "      <td>0.029593</td>\n",
       "    </tr>\n",
       "    <tr>\n",
       "      <th>min</th>\n",
       "      <td>-0.500000</td>\n",
       "      <td>0.500000</td>\n",
       "      <td>0.026969</td>\n",
       "    </tr>\n",
       "    <tr>\n",
       "      <th>25%</th>\n",
       "      <td>0.503233</td>\n",
       "      <td>0.500000</td>\n",
       "      <td>0.074122</td>\n",
       "    </tr>\n",
       "    <tr>\n",
       "      <th>50%</th>\n",
       "      <td>1.506466</td>\n",
       "      <td>9.153172</td>\n",
       "      <td>0.080000</td>\n",
       "    </tr>\n",
       "    <tr>\n",
       "      <th>75%</th>\n",
       "      <td>13.421053</td>\n",
       "      <td>12.368506</td>\n",
       "      <td>0.093124</td>\n",
       "    </tr>\n",
       "    <tr>\n",
       "      <th>max</th>\n",
       "      <td>16.000000</td>\n",
       "      <td>14.654762</td>\n",
       "      <td>0.177483</td>\n",
       "    </tr>\n",
       "  </tbody>\n",
       "</table>\n",
       "</div>"
      ],
      "text/plain": [
       "               x          y      sigma\n",
       "count  50.000000  50.000000  50.000000\n",
       "mean    6.012500   7.217786   0.086907\n",
       "std     6.656621   5.770528   0.029593\n",
       "min    -0.500000   0.500000   0.026969\n",
       "25%     0.503233   0.500000   0.074122\n",
       "50%     1.506466   9.153172   0.080000\n",
       "75%    13.421053  12.368506   0.093124\n",
       "max    16.000000  14.654762   0.177483"
      ]
     },
     "execution_count": 12,
     "metadata": {},
     "output_type": "execute_result"
    }
   ],
   "source": [
    "min_x = dE2\n",
    "max_x = 16\n",
    "N_pseudo = 20\n",
    "\n",
    "df_pseudo = pd.DataFrame({'x':np.linspace(min_x, max_x, N_pseudo),'y': .5 * np.ones(N_pseudo), \\\n",
    "                    'sigma': .08 * np.ones(N_pseudo)})\n",
    "df_full = pd.concat([df_mean, df_pseudo])\n",
    "\n",
    "print('Pseudo data points added for Delta E > DeltaE_II')\n",
    "print('Training data set \"df_full\" has been created')\n",
    "\n",
    "df_full.describe()"
   ]
  },
  {
   "cell_type": "markdown",
   "metadata": {},
   "source": [
    "## 4. Initialize the NN model"
   ]
  },
  {
   "cell_type": "markdown",
   "metadata": {},
   "source": [
    "### Create architecture"
   ]
  },
  {
   "cell_type": "code",
   "execution_count": 13,
   "metadata": {},
   "outputs": [
    {
     "name": "stdout",
     "output_type": "stream",
     "text": [
      "NN is initialized.\n"
     ]
    }
   ],
   "source": [
    "def make_model(inputs, n_outputs):\n",
    "    hidden_layer_1 = tf.layers.dense(inputs, 10, activation=tf.nn.sigmoid)\n",
    "    hidden_layer_2 = tf.layers.dense(hidden_layer_1, 15, activation=tf.nn.sigmoid)\n",
    "    hidden_layer_3 = tf.layers.dense(hidden_layer_2, 5, activation=tf.nn.relu)\n",
    "    output = tf.layers.dense(hidden_layer_3, n_outputs, name='outputs', reuse=tf.AUTO_REUSE)\n",
    "    return output\n",
    "\n",
    "print(\"NN is initialized.\")"
   ]
  },
  {
   "cell_type": "markdown",
   "metadata": {},
   "source": [
    "## 5. Initialize data for NN training"
   ]
  },
  {
   "cell_type": "markdown",
   "metadata": {},
   "source": [
    "Cost function: $\\chi^2 = 1/N \\sum (y - y_{pred})^2 / \\sigma^2$ \\\n",
    "Optimizer: AdamOptimizer\n",
    "\n",
    "Training points are generated by Monte Carlo sampling; for the set of training points $[\\Delta E_i, D_i, \\sigma_i]$, a set of MC training points is generated by adding a stochastic noise signal on top of the the data with a std equal to the corresponding error on that point. \n",
    "\n",
    "- **train_x**: $\\Delta E_i$\n",
    "- **train_y**: $D_i$ + rand.norm(0, $\\sigma_i$)\n",
    "\n",
    "Repetitive training of the NN (number of repetitions = $N_{rep}$) on each set of MC pseudo data yields a prediction that is distributed with a mean and std corresponding to the mean and error of the original training set. \n"
   ]
  },
  {
   "cell_type": "code",
   "execution_count": 14,
   "metadata": {},
   "outputs": [
    {
     "name": "stdout",
     "output_type": "stream",
     "text": [
      "WARNING:tensorflow:From <ipython-input-13-5eeb27ec4819>:2: dense (from tensorflow.python.keras.legacy_tf_layers.core) is deprecated and will be removed in a future version.\n",
      "Instructions for updating:\n",
      "Use keras.layers.Dense instead.\n",
      "WARNING:tensorflow:From /Users/laurienroest/opt/anaconda3/lib/python3.8/site-packages/tensorflow/python/keras/legacy_tf_layers/core.py:187: Layer.apply (from tensorflow.python.keras.engine.base_layer_v1) is deprecated and will be removed in a future version.\n",
      "Instructions for updating:\n",
      "Please use `layer.__call__` method instead.\n",
      "Dataset is split into train subset (80%) and validation subset (20%)\n"
     ]
    }
   ],
   "source": [
    "tf.compat.v1.get_default_graph\n",
    "tf.compat.v1.disable_eager_execution()\n",
    "\n",
    "x = tf.placeholder(\"float\", [None, 1], name=\"x\")\n",
    "y = tf.placeholder(\"float\", [None, 1], name=\"y\")\n",
    "sigma = tf.placeholder(\"float\", [None, 1], name=\"sigma\")\n",
    "\n",
    "predictions = make_model(x,1)\n",
    "\n",
    "df_train_full = df_full\n",
    "df_train_full = df_train_full.drop_duplicates(subset = ['x']) # Only keep one copy per x-value\n",
    "\n",
    "df_train, df_test = train_test_split(df_train_full, test_size=0.2)\n",
    "\n",
    "N_train = len(df_train['x'])\n",
    "N_test = len(df_test['x'])\n",
    "\n",
    "train_x = np.copy(df_train['x']).reshape(N_train,1)\n",
    "train_y = np.copy(df_train['y']).reshape(N_train,1)\n",
    "train_sigma = (np.copy(df_train['sigma'])).reshape(N_train,1)\n",
    "\n",
    "test_x = np.copy(df_test['x']).reshape(N_test,1)\n",
    "test_y = np.copy(df_test['y']).reshape(N_test,1)\n",
    "test_sigma = np.copy(df_test['sigma']).reshape(N_test,1)\n",
    "\n",
    "\n",
    "N_pred = 3000\n",
    "pred_min = -.5\n",
    "pred_max = 20\n",
    "predict_x = np.linspace(pred_min,pred_max,N_pred).reshape(N_pred,1)\n",
    "\n",
    "print(\"Dataset is split into train subset (80%) and validation subset (20%)\")"
   ]
  },
  {
   "cell_type": "code",
   "execution_count": 15,
   "metadata": {},
   "outputs": [
    {
     "name": "stderr",
     "output_type": "stream",
     "text": [
      "findfont: Font family ['sans-serif'] not found. Falling back to DejaVu Sans.\n"
     ]
    },
    {
     "data": {
      "image/png": "[encoded data removed]",
      "text/plain": [
       "<Figure size 720x360 with 1 Axes>"
      ]
     },
     "metadata": {
      "needs_background": "light"
     },
     "output_type": "display_data"
    }
   ],
   "source": [
    "plt.figure(figsize=(10,5))\n",
    "plt.plot(train_x, train_y, '.', label='train')\n",
    "plt.plot(test_x, test_y, '.', label='test')\n",
    "plt.axvline(x=dE1, color='lightgray')\n",
    "plt.axvline(x=dE2, color='lightgray')\n",
    "plt.title('Visualization of training data', fontsize=15)\n",
    "plt.ylabel('Log intensity', fontsize=14)\n",
    "plt.xlabel('Energy loss (eV)', fontsize=14)\n",
    "plt.legend(fontsize=14)\n",
    "plt.show()"
   ]
  },
  {
   "cell_type": "markdown",
   "metadata": {},
   "source": [
    "## 6. Create MC replicas"
   ]
  },
  {
   "cell_type": "code",
   "execution_count": 16,
   "metadata": {},
   "outputs": [
    {
     "name": "stdout",
     "output_type": "stream",
     "text": [
      "MC pseudo data has been created for 1000 replicas\n"
     ]
    }
   ],
   "source": [
    "Nrep = 1000\n",
    "\n",
    "train_y_reps = np.zeros(shape=(N_train, Nrep))\n",
    "test_y_reps = np.zeros(shape=(N_test, Nrep))\n",
    "i=0\n",
    "while i < Nrep:\n",
    "        train_rep = np.random.normal(0, train_sigma)\n",
    "        test_rep = np.random.normal(0, test_sigma)\n",
    "        train_y_reps[:,i] = (train_y + train_rep).reshape(N_train)\n",
    "        test_y_reps[:,i] = (test_y + test_rep).reshape(N_test)\n",
    "        i+=1 \n",
    "        \n",
    "std_reps = np.std(train_y_reps, axis=1)\n",
    "mean_reps = np.mean(train_y_reps, axis=1)\n",
    "\n",
    "print('MC pseudo data has been created for 1000 replicas')"
   ]
  },
  {
   "cell_type": "markdown",
   "metadata": {},
   "source": [
    "# 7. NN training"
   ]
  },
  {
   "cell_type": "code",
   "execution_count": 17,
   "metadata": {
    "scrolled": false
   },
   "outputs": [],
   "source": [
    "import time\n",
    "from datetime import datetime\n",
    "now = datetime.now()\n",
    "\n",
    "def function_train():\n",
    "    \n",
    "    chi_array = []\n",
    "    \n",
    "    cost = tf.reduce_mean(tf.square((y-predictions)/sigma), name=\"cost_function\")\n",
    "    eta = 6e-3\n",
    "    optimizer = tf.train.RMSPropOptimizer(learning_rate=eta, decay=0.9, momentum=0.0, epsilon=1e-10).minimize(cost)\n",
    "    saver = tf.train.Saver(max_to_keep=100)\n",
    "    \n",
    "    print(\"Start training on\", '%04d'%(N_train), \"and validating on\",'%0.4d'%(N_test), \"samples\")\n",
    "    \n",
    "    Nrep = 100\n",
    "\n",
    "    for i in range(Nrep):\n",
    "\n",
    "        train_y = train_y_reps[:, i].reshape(N_train,1)\n",
    "        test_y = test_y_reps[:, i].reshape(N_test,1)\n",
    "        \n",
    "        ### Train and validate\n",
    "        prev_test_cost = 0\n",
    "        prev_epoch = 0\n",
    "        avg_cost = 0\n",
    "\n",
    "        array_train = []\n",
    "        array_test = []\n",
    "\n",
    "        with tf.Session() as sess:\n",
    "\n",
    "            sess.run(tf.global_variables_initializer())\n",
    "            \n",
    "            training_epochs = 25000\n",
    "            display_step = 1000\n",
    "\n",
    "            for epoch in range(training_epochs):\n",
    "\n",
    "                _, c = sess.run([optimizer, cost], \n",
    "                                feed_dict={\n",
    "                                    x: train_x,\n",
    "                                    y: train_y,\n",
    "                                    sigma: train_sigma\n",
    "                                })\n",
    "\n",
    "                avg_cost = c\n",
    "                \n",
    "                test_cost = cost.eval({x: test_x, y: test_y, sigma: test_sigma})\n",
    "\n",
    "\n",
    "                if epoch % display_step == 0:\n",
    "                    print(\"Epoch:\", '%04d' % (epoch+1), \"| Training cost=\", \"{:.9f}\".format(avg_cost), \"| Validation cost=\", \"{:.9f}\".format(test_cost))\n",
    "                    array_train.append(avg_cost)\n",
    "                    array_test.append(test_cost)\n",
    "                    saver.save(sess, 'Models/All_models/my-model.ckpt', global_step=epoch , write_meta_graph=False) \n",
    "\n",
    "                    \n",
    "                elif test_cost < prev_test_cost:\n",
    "                    prev_test_cost = test_cost\n",
    "                    prev_epoch = epoch\n",
    "\n",
    "            best_iteration = np.argmin(array_test) \n",
    "            best_epoch = best_iteration * display_step\n",
    "            best_model = 'Models/All_models/my-model.ckpt-%(s)s' % {'s': best_epoch}\n",
    "\n",
    "            print(\"Optimization %(i)s Finished! Best model after epoch %(s)s\" % {'i': i, 's': best_epoch})\n",
    "            \n",
    "\n",
    "\n",
    "            dt_string = now.strftime(\"%d.%m.%Y %H:%M:%S\")\n",
    "            d_string = now.strftime(\"%d.%m.%Y\")\n",
    "            t_string = now.strftime(\"%H:%M:%S\")\n",
    "            \n",
    "            saver.restore(sess, best_model)\n",
    "            saver.save(sess, 'Models/Best_models/%(s)s/best_model_%(i)s' % {'s': d_string, 'i': i})\n",
    "\n",
    "\n",
    "            predictions_values = sess.run(predictions, \n",
    "                                feed_dict={\n",
    "                                    x: train_x,\n",
    "                                    y: train_y \n",
    "                                }) \n",
    "\n",
    "\n",
    "            extrapolation = sess.run(predictions,\n",
    "                                feed_dict={\n",
    "                                    x: predict_x\n",
    "                                })\n",
    "            \n",
    "\n",
    "        sess.close()\n",
    "        \n",
    "\n",
    "        \n",
    "\n",
    "        a = np.array(train_x).reshape(N_train,)\n",
    "        b = np.array(train_y).reshape(N_train,)\n",
    "        c = np.array(predictions_values).reshape(N_train,)\n",
    "        \n",
    "        d = array_train\n",
    "        e = array_test\n",
    "       \n",
    "        k = np.array(predict_x).reshape(N_pred,)\n",
    "        l = np.array(extrapolation).reshape(N_pred,)\n",
    "        \n",
    "        path_to_data = 'Data/Results/%(date)s/'% {\"date\": d_string} \n",
    "        \n",
    "        np.savetxt(path_to_data + 'Predictions_%(k)s.csv' % {\"k\": i}, list(zip(a,b,c)),  delimiter=',', fmt='%f')\n",
    "        np.savetxt(path_to_data + 'Cost_%(k)s.csv' % {\"k\": i}, list(zip(d,e)),  delimiter=',',fmt='%f')\n",
    "        np.savetxt(path_to_data + 'Extrapolation_%(k)s.csv' % {\"k\":i}, list(zip(k, l)),  delimiter=',', fmt='%f')\n",
    " "
   ]
  },
  {
   "cell_type": "code",
   "execution_count": null,
   "metadata": {},
   "outputs": [],
   "source": [
    "\n"
   ]
  },
  {
   "cell_type": "markdown",
   "metadata": {},
   "source": [
    "## Serial training"
   ]
  },
  {
   "cell_type": "code",
   "execution_count": 18,
   "metadata": {
    "scrolled": true
   },
   "outputs": [
    {
     "name": "stdout",
     "output_type": "stream",
     "text": [
      "WARNING:tensorflow:From /Users/laurienroest/opt/anaconda3/lib/python3.8/site-packages/tensorflow/python/training/rmsprop.py:123: calling Ones.__init__ (from tensorflow.python.ops.init_ops) with dtype is deprecated and will be removed in a future version.\n",
      "Instructions for updating:\n",
      "Call initializer instance with the dtype argument instead of passing it to the constructor\n",
      "Start training on 0040 and validating on 0010 samples\n",
      "Epoch: 0001 | Training cost= 17987.187500000 | Validation cost= 3540.188720703\n",
      "Epoch: 1001 | Training cost= 42.639171600 | Validation cost= 50.979961395\n"
     ]
    },
    {
     "ename": "KeyboardInterrupt",
     "evalue": "",
     "output_type": "error",
     "traceback": [
      "\u001b[0;31m---------------------------------------------------------------------------\u001b[0m",
      "\u001b[0;31mKeyboardInterrupt\u001b[0m                         Traceback (most recent call last)",
      "\u001b[0;32m<ipython-input-18-0bada286c559>\u001b[0m in \u001b[0;36m<module>\u001b[0;34m\u001b[0m\n\u001b[0;32m----> 1\u001b[0;31m \u001b[0mfunction_train\u001b[0m\u001b[0;34m(\u001b[0m\u001b[0;34m)\u001b[0m\u001b[0;34m\u001b[0m\u001b[0;34m\u001b[0m\u001b[0m\n\u001b[0m",
      "\u001b[0;32m<ipython-input-17-b09fb7842791>\u001b[0m in \u001b[0;36mfunction_train\u001b[0;34m()\u001b[0m\n\u001b[1;32m     47\u001b[0m                 \u001b[0mavg_cost\u001b[0m \u001b[0;34m=\u001b[0m \u001b[0mc\u001b[0m\u001b[0;34m\u001b[0m\u001b[0;34m\u001b[0m\u001b[0m\n\u001b[1;32m     48\u001b[0m \u001b[0;34m\u001b[0m\u001b[0m\n\u001b[0;32m---> 49\u001b[0;31m                 \u001b[0mtest_cost\u001b[0m \u001b[0;34m=\u001b[0m \u001b[0mcost\u001b[0m\u001b[0;34m.\u001b[0m\u001b[0meval\u001b[0m\u001b[0;34m(\u001b[0m\u001b[0;34m{\u001b[0m\u001b[0mx\u001b[0m\u001b[0;34m:\u001b[0m \u001b[0mtest_x\u001b[0m\u001b[0;34m,\u001b[0m \u001b[0my\u001b[0m\u001b[0;34m:\u001b[0m \u001b[0mtest_y\u001b[0m\u001b[0;34m,\u001b[0m \u001b[0msigma\u001b[0m\u001b[0;34m:\u001b[0m \u001b[0mtest_sigma\u001b[0m\u001b[0;34m}\u001b[0m\u001b[0;34m)\u001b[0m\u001b[0;34m\u001b[0m\u001b[0;34m\u001b[0m\u001b[0m\n\u001b[0m\u001b[1;32m     50\u001b[0m \u001b[0;34m\u001b[0m\u001b[0m\n\u001b[1;32m     51\u001b[0m \u001b[0;34m\u001b[0m\u001b[0m\n",
      "\u001b[0;32m~/opt/anaconda3/lib/python3.8/site-packages/tensorflow/python/framework/ops.py\u001b[0m in \u001b[0;36meval\u001b[0;34m(self, feed_dict, session)\u001b[0m\n\u001b[1;32m    911\u001b[0m       \u001b[0mA\u001b[0m \u001b[0mnumpy\u001b[0m \u001b[0marray\u001b[0m \u001b[0mcorresponding\u001b[0m \u001b[0mto\u001b[0m \u001b[0mthe\u001b[0m \u001b[0mvalue\u001b[0m \u001b[0mof\u001b[0m \u001b[0mthis\u001b[0m \u001b[0mtensor\u001b[0m\u001b[0;34m.\u001b[0m\u001b[0;34m\u001b[0m\u001b[0;34m\u001b[0m\u001b[0m\n\u001b[1;32m    912\u001b[0m     \"\"\"\n\u001b[0;32m--> 913\u001b[0;31m     \u001b[0;32mreturn\u001b[0m \u001b[0m_eval_using_default_session\u001b[0m\u001b[0;34m(\u001b[0m\u001b[0mself\u001b[0m\u001b[0;34m,\u001b[0m \u001b[0mfeed_dict\u001b[0m\u001b[0;34m,\u001b[0m \u001b[0mself\u001b[0m\u001b[0;34m.\u001b[0m\u001b[0mgraph\u001b[0m\u001b[0;34m,\u001b[0m \u001b[0msession\u001b[0m\u001b[0;34m)\u001b[0m\u001b[0;34m\u001b[0m\u001b[0;34m\u001b[0m\u001b[0m\n\u001b[0m\u001b[1;32m    914\u001b[0m \u001b[0;34m\u001b[0m\u001b[0m\n\u001b[1;32m    915\u001b[0m   \u001b[0;34m@\u001b[0m\u001b[0mdeprecation\u001b[0m\u001b[0;34m.\u001b[0m\u001b[0mdeprecated\u001b[0m\u001b[0;34m(\u001b[0m\u001b[0;32mNone\u001b[0m\u001b[0;34m,\u001b[0m \u001b[0;34m\"Use ref() instead.\"\u001b[0m\u001b[0;34m)\u001b[0m\u001b[0;34m\u001b[0m\u001b[0;34m\u001b[0m\u001b[0m\n",
      "\u001b[0;32m~/opt/anaconda3/lib/python3.8/site-packages/tensorflow/python/framework/ops.py\u001b[0m in \u001b[0;36m_eval_using_default_session\u001b[0;34m(tensors, feed_dict, graph, session)\u001b[0m\n\u001b[1;32m   5510\u001b[0m                        \u001b[0;34m\"the tensor's graph is different from the session's \"\u001b[0m\u001b[0;34m\u001b[0m\u001b[0;34m\u001b[0m\u001b[0m\n\u001b[1;32m   5511\u001b[0m                        \"graph.\")\n\u001b[0;32m-> 5512\u001b[0;31m   \u001b[0;32mreturn\u001b[0m \u001b[0msession\u001b[0m\u001b[0;34m.\u001b[0m\u001b[0mrun\u001b[0m\u001b[0;34m(\u001b[0m\u001b[0mtensors\u001b[0m\u001b[0;34m,\u001b[0m \u001b[0mfeed_dict\u001b[0m\u001b[0;34m)\u001b[0m\u001b[0;34m\u001b[0m\u001b[0;34m\u001b[0m\u001b[0m\n\u001b[0m\u001b[1;32m   5513\u001b[0m \u001b[0;34m\u001b[0m\u001b[0m\n\u001b[1;32m   5514\u001b[0m \u001b[0;34m\u001b[0m\u001b[0m\n",
      "\u001b[0;32m~/opt/anaconda3/lib/python3.8/site-packages/tensorflow/python/client/session.py\u001b[0m in \u001b[0;36mrun\u001b[0;34m(self, fetches, feed_dict, options, run_metadata)\u001b[0m\n\u001b[1;32m    955\u001b[0m \u001b[0;34m\u001b[0m\u001b[0m\n\u001b[1;32m    956\u001b[0m     \u001b[0;32mtry\u001b[0m\u001b[0;34m:\u001b[0m\u001b[0;34m\u001b[0m\u001b[0;34m\u001b[0m\u001b[0m\n\u001b[0;32m--> 957\u001b[0;31m       result = self._run(None, fetches, feed_dict, options_ptr,\n\u001b[0m\u001b[1;32m    958\u001b[0m                          run_metadata_ptr)\n\u001b[1;32m    959\u001b[0m       \u001b[0;32mif\u001b[0m \u001b[0mrun_metadata\u001b[0m\u001b[0;34m:\u001b[0m\u001b[0;34m\u001b[0m\u001b[0;34m\u001b[0m\u001b[0m\n",
      "\u001b[0;32m~/opt/anaconda3/lib/python3.8/site-packages/tensorflow/python/client/session.py\u001b[0m in \u001b[0;36m_run\u001b[0;34m(self, handle, fetches, feed_dict, options, run_metadata)\u001b[0m\n\u001b[1;32m   1178\u001b[0m     \u001b[0;31m# or if the call is a partial run that specifies feeds.\u001b[0m\u001b[0;34m\u001b[0m\u001b[0;34m\u001b[0m\u001b[0;34m\u001b[0m\u001b[0m\n\u001b[1;32m   1179\u001b[0m     \u001b[0;32mif\u001b[0m \u001b[0mfinal_fetches\u001b[0m \u001b[0;32mor\u001b[0m \u001b[0mfinal_targets\u001b[0m \u001b[0;32mor\u001b[0m \u001b[0;34m(\u001b[0m\u001b[0mhandle\u001b[0m \u001b[0;32mand\u001b[0m \u001b[0mfeed_dict_tensor\u001b[0m\u001b[0;34m)\u001b[0m\u001b[0;34m:\u001b[0m\u001b[0;34m\u001b[0m\u001b[0;34m\u001b[0m\u001b[0m\n\u001b[0;32m-> 1180\u001b[0;31m       results = self._do_run(handle, final_targets, final_fetches,\n\u001b[0m\u001b[1;32m   1181\u001b[0m                              feed_dict_tensor, options, run_metadata)\n\u001b[1;32m   1182\u001b[0m     \u001b[0;32melse\u001b[0m\u001b[0;34m:\u001b[0m\u001b[0;34m\u001b[0m\u001b[0;34m\u001b[0m\u001b[0m\n",
      "\u001b[0;32m~/opt/anaconda3/lib/python3.8/site-packages/tensorflow/python/client/session.py\u001b[0m in \u001b[0;36m_do_run\u001b[0;34m(self, handle, target_list, fetch_list, feed_dict, options, run_metadata)\u001b[0m\n\u001b[1;32m   1356\u001b[0m \u001b[0;34m\u001b[0m\u001b[0m\n\u001b[1;32m   1357\u001b[0m     \u001b[0;32mif\u001b[0m \u001b[0mhandle\u001b[0m \u001b[0;32mis\u001b[0m \u001b[0;32mNone\u001b[0m\u001b[0;34m:\u001b[0m\u001b[0;34m\u001b[0m\u001b[0;34m\u001b[0m\u001b[0m\n\u001b[0;32m-> 1358\u001b[0;31m       return self._do_call(_run_fn, feeds, fetches, targets, options,\n\u001b[0m\u001b[1;32m   1359\u001b[0m                            run_metadata)\n\u001b[1;32m   1360\u001b[0m     \u001b[0;32melse\u001b[0m\u001b[0;34m:\u001b[0m\u001b[0;34m\u001b[0m\u001b[0;34m\u001b[0m\u001b[0m\n",
      "\u001b[0;32m~/opt/anaconda3/lib/python3.8/site-packages/tensorflow/python/client/session.py\u001b[0m in \u001b[0;36m_do_call\u001b[0;34m(self, fn, *args)\u001b[0m\n\u001b[1;32m   1363\u001b[0m   \u001b[0;32mdef\u001b[0m \u001b[0m_do_call\u001b[0m\u001b[0;34m(\u001b[0m\u001b[0mself\u001b[0m\u001b[0;34m,\u001b[0m \u001b[0mfn\u001b[0m\u001b[0;34m,\u001b[0m \u001b[0;34m*\u001b[0m\u001b[0margs\u001b[0m\u001b[0;34m)\u001b[0m\u001b[0;34m:\u001b[0m\u001b[0;34m\u001b[0m\u001b[0;34m\u001b[0m\u001b[0m\n\u001b[1;32m   1364\u001b[0m     \u001b[0;32mtry\u001b[0m\u001b[0;34m:\u001b[0m\u001b[0;34m\u001b[0m\u001b[0;34m\u001b[0m\u001b[0m\n\u001b[0;32m-> 1365\u001b[0;31m       \u001b[0;32mreturn\u001b[0m \u001b[0mfn\u001b[0m\u001b[0;34m(\u001b[0m\u001b[0;34m*\u001b[0m\u001b[0margs\u001b[0m\u001b[0;34m)\u001b[0m\u001b[0;34m\u001b[0m\u001b[0;34m\u001b[0m\u001b[0m\n\u001b[0m\u001b[1;32m   1366\u001b[0m     \u001b[0;32mexcept\u001b[0m \u001b[0merrors\u001b[0m\u001b[0;34m.\u001b[0m\u001b[0mOpError\u001b[0m \u001b[0;32mas\u001b[0m \u001b[0me\u001b[0m\u001b[0;34m:\u001b[0m\u001b[0;34m\u001b[0m\u001b[0;34m\u001b[0m\u001b[0m\n\u001b[1;32m   1367\u001b[0m       \u001b[0mmessage\u001b[0m \u001b[0;34m=\u001b[0m \u001b[0mcompat\u001b[0m\u001b[0;34m.\u001b[0m\u001b[0mas_text\u001b[0m\u001b[0;34m(\u001b[0m\u001b[0me\u001b[0m\u001b[0;34m.\u001b[0m\u001b[0mmessage\u001b[0m\u001b[0;34m)\u001b[0m\u001b[0;34m\u001b[0m\u001b[0;34m\u001b[0m\u001b[0m\n",
      "\u001b[0;32m~/opt/anaconda3/lib/python3.8/site-packages/tensorflow/python/client/session.py\u001b[0m in \u001b[0;36m_run_fn\u001b[0;34m(feed_dict, fetch_list, target_list, options, run_metadata)\u001b[0m\n\u001b[1;32m   1347\u001b[0m       \u001b[0;31m# Ensure any changes to the graph are reflected in the runtime.\u001b[0m\u001b[0;34m\u001b[0m\u001b[0;34m\u001b[0m\u001b[0;34m\u001b[0m\u001b[0m\n\u001b[1;32m   1348\u001b[0m       \u001b[0mself\u001b[0m\u001b[0;34m.\u001b[0m\u001b[0m_extend_graph\u001b[0m\u001b[0;34m(\u001b[0m\u001b[0;34m)\u001b[0m\u001b[0;34m\u001b[0m\u001b[0;34m\u001b[0m\u001b[0m\n\u001b[0;32m-> 1349\u001b[0;31m       return self._call_tf_sessionrun(options, feed_dict, fetch_list,\n\u001b[0m\u001b[1;32m   1350\u001b[0m                                       target_list, run_metadata)\n\u001b[1;32m   1351\u001b[0m \u001b[0;34m\u001b[0m\u001b[0m\n",
      "\u001b[0;32m~/opt/anaconda3/lib/python3.8/site-packages/tensorflow/python/client/session.py\u001b[0m in \u001b[0;36m_call_tf_sessionrun\u001b[0;34m(self, options, feed_dict, fetch_list, target_list, run_metadata)\u001b[0m\n\u001b[1;32m   1439\u001b[0m   def _call_tf_sessionrun(self, options, feed_dict, fetch_list, target_list,\n\u001b[1;32m   1440\u001b[0m                           run_metadata):\n\u001b[0;32m-> 1441\u001b[0;31m     return tf_session.TF_SessionRun_wrapper(self._session, options, feed_dict,\n\u001b[0m\u001b[1;32m   1442\u001b[0m                                             \u001b[0mfetch_list\u001b[0m\u001b[0;34m,\u001b[0m \u001b[0mtarget_list\u001b[0m\u001b[0;34m,\u001b[0m\u001b[0;34m\u001b[0m\u001b[0;34m\u001b[0m\u001b[0m\n\u001b[1;32m   1443\u001b[0m                                             run_metadata)\n",
      "\u001b[0;31mKeyboardInterrupt\u001b[0m: "
     ]
    }
   ],
   "source": [
    "function_train()\n"
   ]
  },
  {
   "cell_type": "code",
   "execution_count": 20,
   "metadata": {},
   "outputs": [
    {
     "name": "stdout",
     "output_type": "stream",
     "text": [
      "INFO:tensorflow:Restoring parameters from Models/Best_models/07.09.2020/best_model_25\n",
      "INFO:tensorflow:Restoring parameters from Models/Best_models/07.09.2020/best_model_26\n",
      "INFO:tensorflow:Restoring parameters from Models/Best_models/07.09.2020/best_model_27\n",
      "INFO:tensorflow:Restoring parameters from Models/Best_models/07.09.2020/best_model_28\n",
      "INFO:tensorflow:Restoring parameters from Models/Best_models/07.09.2020/best_model_29\n",
      "INFO:tensorflow:Restoring parameters from Models/Best_models/07.09.2020/best_model_30\n",
      "INFO:tensorflow:Restoring parameters from Models/Best_models/07.09.2020/best_model_31\n",
      "INFO:tensorflow:Restoring parameters from Models/Best_models/07.09.2020/best_model_32\n",
      "INFO:tensorflow:Restoring parameters from Models/Best_models/07.09.2020/best_model_33\n",
      "INFO:tensorflow:Restoring parameters from Models/Best_models/07.09.2020/best_model_34\n",
      "INFO:tensorflow:Restoring parameters from Models/Best_models/07.09.2020/best_model_35\n",
      "INFO:tensorflow:Restoring parameters from Models/Best_models/07.09.2020/best_model_36\n",
      "INFO:tensorflow:Restoring parameters from Models/Best_models/07.09.2020/best_model_37\n",
      "INFO:tensorflow:Restoring parameters from Models/Best_models/07.09.2020/best_model_38\n",
      "INFO:tensorflow:Restoring parameters from Models/Best_models/07.09.2020/best_model_39\n",
      "INFO:tensorflow:Restoring parameters from Models/Best_models/07.09.2020/best_model_40\n",
      "INFO:tensorflow:Restoring parameters from Models/Best_models/07.09.2020/best_model_41\n",
      "INFO:tensorflow:Restoring parameters from Models/Best_models/07.09.2020/best_model_42\n",
      "INFO:tensorflow:Restoring parameters from Models/Best_models/07.09.2020/best_model_43\n",
      "INFO:tensorflow:Restoring parameters from Models/Best_models/07.09.2020/best_model_44\n",
      "INFO:tensorflow:Restoring parameters from Models/Best_models/07.09.2020/best_model_45\n",
      "INFO:tensorflow:Restoring parameters from Models/Best_models/07.09.2020/best_model_46\n",
      "INFO:tensorflow:Restoring parameters from Models/Best_models/07.09.2020/best_model_47\n",
      "INFO:tensorflow:Restoring parameters from Models/Best_models/07.09.2020/best_model_48\n",
      "INFO:tensorflow:Restoring parameters from Models/Best_models/07.09.2020/best_model_49\n",
      "INFO:tensorflow:Restoring parameters from Models/Best_models/07.09.2020/best_model_50\n",
      "INFO:tensorflow:Restoring parameters from Models/Best_models/07.09.2020/best_model_51\n",
      "INFO:tensorflow:Restoring parameters from Models/Best_models/07.09.2020/best_model_52\n",
      "INFO:tensorflow:Restoring parameters from Models/Best_models/07.09.2020/best_model_53\n",
      "INFO:tensorflow:Restoring parameters from Models/Best_models/07.09.2020/best_model_54\n",
      "INFO:tensorflow:Restoring parameters from Models/Best_models/07.09.2020/best_model_55\n",
      "INFO:tensorflow:Restoring parameters from Models/Best_models/07.09.2020/best_model_56\n",
      "INFO:tensorflow:Restoring parameters from Models/Best_models/07.09.2020/best_model_57\n",
      "INFO:tensorflow:Restoring parameters from Models/Best_models/07.09.2020/best_model_58\n",
      "INFO:tensorflow:Restoring parameters from Models/Best_models/07.09.2020/best_model_59\n",
      "INFO:tensorflow:Restoring parameters from Models/Best_models/07.09.2020/best_model_60\n",
      "INFO:tensorflow:Restoring parameters from Models/Best_models/07.09.2020/best_model_61\n",
      "INFO:tensorflow:Restoring parameters from Models/Best_models/07.09.2020/best_model_62\n",
      "INFO:tensorflow:Restoring parameters from Models/Best_models/07.09.2020/best_model_63\n",
      "INFO:tensorflow:Restoring parameters from Models/Best_models/07.09.2020/best_model_64\n",
      "INFO:tensorflow:Restoring parameters from Models/Best_models/07.09.2020/best_model_65\n",
      "INFO:tensorflow:Restoring parameters from Models/Best_models/07.09.2020/best_model_66\n",
      "INFO:tensorflow:Restoring parameters from Models/Best_models/07.09.2020/best_model_67\n",
      "INFO:tensorflow:Restoring parameters from Models/Best_models/07.09.2020/best_model_68\n",
      "INFO:tensorflow:Restoring parameters from Models/Best_models/07.09.2020/best_model_69\n",
      "INFO:tensorflow:Restoring parameters from Models/Best_models/07.09.2020/best_model_70\n",
      "INFO:tensorflow:Restoring parameters from Models/Best_models/07.09.2020/best_model_71\n",
      "INFO:tensorflow:Restoring parameters from Models/Best_models/07.09.2020/best_model_72\n",
      "INFO:tensorflow:Restoring parameters from Models/Best_models/07.09.2020/best_model_73\n",
      "INFO:tensorflow:Restoring parameters from Models/Best_models/07.09.2020/best_model_74\n",
      "INFO:tensorflow:Restoring parameters from Models/Best_models/07.09.2020/best_model_75\n",
      "INFO:tensorflow:Restoring parameters from Models/Best_models/07.09.2020/best_model_76\n",
      "INFO:tensorflow:Restoring parameters from Models/Best_models/07.09.2020/best_model_77\n",
      "INFO:tensorflow:Restoring parameters from Models/Best_models/07.09.2020/best_model_78\n",
      "INFO:tensorflow:Restoring parameters from Models/Best_models/07.09.2020/best_model_79\n",
      "INFO:tensorflow:Restoring parameters from Models/Best_models/07.09.2020/best_model_80\n",
      "INFO:tensorflow:Restoring parameters from Models/Best_models/07.09.2020/best_model_81\n",
      "INFO:tensorflow:Restoring parameters from Models/Best_models/07.09.2020/best_model_82\n",
      "INFO:tensorflow:Restoring parameters from Models/Best_models/07.09.2020/best_model_83\n",
      "INFO:tensorflow:Restoring parameters from Models/Best_models/07.09.2020/best_model_84\n",
      "INFO:tensorflow:Restoring parameters from Models/Best_models/07.09.2020/best_model_85\n",
      "INFO:tensorflow:Restoring parameters from Models/Best_models/07.09.2020/best_model_86\n",
      "INFO:tensorflow:Restoring parameters from Models/Best_models/07.09.2020/best_model_87\n",
      "INFO:tensorflow:Restoring parameters from Models/Best_models/07.09.2020/best_model_88\n",
      "INFO:tensorflow:Restoring parameters from Models/Best_models/07.09.2020/best_model_89\n",
      "INFO:tensorflow:Restoring parameters from Models/Best_models/07.09.2020/best_model_90\n",
      "INFO:tensorflow:Restoring parameters from Models/Best_models/07.09.2020/best_model_91\n",
      "INFO:tensorflow:Restoring parameters from Models/Best_models/07.09.2020/best_model_92\n",
      "INFO:tensorflow:Restoring parameters from Models/Best_models/07.09.2020/best_model_93\n",
      "INFO:tensorflow:Restoring parameters from Models/Best_models/07.09.2020/best_model_94\n",
      "INFO:tensorflow:Restoring parameters from Models/Best_models/07.09.2020/best_model_95\n",
      "INFO:tensorflow:Restoring parameters from Models/Best_models/07.09.2020/best_model_96\n",
      "INFO:tensorflow:Restoring parameters from Models/Best_models/07.09.2020/best_model_97\n",
      "INFO:tensorflow:Restoring parameters from Models/Best_models/07.09.2020/best_model_98\n",
      "INFO:tensorflow:Restoring parameters from Models/Best_models/07.09.2020/best_model_99\n"
     ]
    }
   ],
   "source": [
    "d_string = '07.09.2020'\n",
    "good_files = np.ones(100)\n",
    "prediction_file = pd.DataFrame()\n",
    "\n",
    "predict_x = np.linspace(-0.5, 20, 1000).reshape(1000,1)\n",
    "\n",
    "with tf.Session() as sess:\n",
    "    sess.run(tf.global_variables_initializer())\n",
    "    \n",
    "    for i in range(25,100):\n",
    "        if good_files[i] == 1:\n",
    "            best_model = 'Models/Best_models/%(s)s/best_model_%(i)s'% {'s': d_string, 'i': i}\n",
    "            saver = tf.compat.v1.train.Saver(max_to_keep=1000)\n",
    "            saver.restore(sess, best_model)\n",
    "\n",
    "            extrapolation = sess.run(predictions,\n",
    "                                    feed_dict={\n",
    "                                    x: predict_x\n",
    "                                    })\n",
    "\n",
    "            prediction_file['prediction_%(i)s' % {\"j\": j, \"i\": i}] = extrapolation.reshape(1000,)\n",
    "            "
   ]
  },
  {
   "cell_type": "code",
   "execution_count": 21,
   "metadata": {},
   "outputs": [
    {
     "data": {
      "text/html": [
       "<div>\n",
       "<style scoped>\n",
       "    .dataframe tbody tr th:only-of-type {\n",
       "        vertical-align: middle;\n",
       "    }\n",
       "\n",
       "    .dataframe tbody tr th {\n",
       "        vertical-align: top;\n",
       "    }\n",
       "\n",
       "    .dataframe thead th {\n",
       "        text-align: right;\n",
       "    }\n",
       "</style>\n",
       "<table border=\"1\" class=\"dataframe\">\n",
       "  <thead>\n",
       "    <tr style=\"text-align: right;\">\n",
       "      <th></th>\n",
       "      <th>prediction_25</th>\n",
       "      <th>prediction_26</th>\n",
       "      <th>prediction_27</th>\n",
       "      <th>prediction_28</th>\n",
       "      <th>prediction_29</th>\n",
       "      <th>prediction_30</th>\n",
       "      <th>prediction_31</th>\n",
       "      <th>prediction_32</th>\n",
       "      <th>prediction_33</th>\n",
       "      <th>prediction_34</th>\n",
       "      <th>...</th>\n",
       "      <th>prediction_90</th>\n",
       "      <th>prediction_91</th>\n",
       "      <th>prediction_92</th>\n",
       "      <th>prediction_93</th>\n",
       "      <th>prediction_94</th>\n",
       "      <th>prediction_95</th>\n",
       "      <th>prediction_96</th>\n",
       "      <th>prediction_97</th>\n",
       "      <th>prediction_98</th>\n",
       "      <th>prediction_99</th>\n",
       "    </tr>\n",
       "  </thead>\n",
       "  <tbody>\n",
       "    <tr>\n",
       "      <th>0</th>\n",
       "      <td>11.922141</td>\n",
       "      <td>11.670760</td>\n",
       "      <td>8.01274</td>\n",
       "      <td>11.838618</td>\n",
       "      <td>14.394559</td>\n",
       "      <td>11.945864</td>\n",
       "      <td>14.586664</td>\n",
       "      <td>11.772637</td>\n",
       "      <td>11.660980</td>\n",
       "      <td>12.082049</td>\n",
       "      <td>...</td>\n",
       "      <td>11.854330</td>\n",
       "      <td>12.205647</td>\n",
       "      <td>11.971238</td>\n",
       "      <td>11.501782</td>\n",
       "      <td>11.946703</td>\n",
       "      <td>11.638208</td>\n",
       "      <td>8.006145</td>\n",
       "      <td>14.372602</td>\n",
       "      <td>7.9919</td>\n",
       "      <td>13.214000</td>\n",
       "    </tr>\n",
       "    <tr>\n",
       "      <th>1</th>\n",
       "      <td>12.065281</td>\n",
       "      <td>11.780246</td>\n",
       "      <td>8.01274</td>\n",
       "      <td>11.895417</td>\n",
       "      <td>14.394545</td>\n",
       "      <td>12.006420</td>\n",
       "      <td>14.586659</td>\n",
       "      <td>11.837869</td>\n",
       "      <td>11.797225</td>\n",
       "      <td>12.193780</td>\n",
       "      <td>...</td>\n",
       "      <td>11.940935</td>\n",
       "      <td>12.305368</td>\n",
       "      <td>12.072687</td>\n",
       "      <td>11.625122</td>\n",
       "      <td>12.113189</td>\n",
       "      <td>11.741156</td>\n",
       "      <td>8.006145</td>\n",
       "      <td>14.372567</td>\n",
       "      <td>7.9919</td>\n",
       "      <td>13.276665</td>\n",
       "    </tr>\n",
       "    <tr>\n",
       "      <th>2</th>\n",
       "      <td>12.213700</td>\n",
       "      <td>11.896721</td>\n",
       "      <td>8.01274</td>\n",
       "      <td>11.961257</td>\n",
       "      <td>14.394530</td>\n",
       "      <td>12.079272</td>\n",
       "      <td>14.586654</td>\n",
       "      <td>11.912495</td>\n",
       "      <td>11.935600</td>\n",
       "      <td>12.311558</td>\n",
       "      <td>...</td>\n",
       "      <td>12.042089</td>\n",
       "      <td>12.409235</td>\n",
       "      <td>12.181750</td>\n",
       "      <td>11.757233</td>\n",
       "      <td>12.279181</td>\n",
       "      <td>11.866023</td>\n",
       "      <td>8.006145</td>\n",
       "      <td>14.372530</td>\n",
       "      <td>7.9919</td>\n",
       "      <td>13.340283</td>\n",
       "    </tr>\n",
       "    <tr>\n",
       "      <th>3</th>\n",
       "      <td>12.366954</td>\n",
       "      <td>12.020239</td>\n",
       "      <td>8.01274</td>\n",
       "      <td>12.037586</td>\n",
       "      <td>14.394513</td>\n",
       "      <td>12.166501</td>\n",
       "      <td>14.586649</td>\n",
       "      <td>11.997791</td>\n",
       "      <td>12.075939</td>\n",
       "      <td>12.435365</td>\n",
       "      <td>...</td>\n",
       "      <td>12.160333</td>\n",
       "      <td>12.517360</td>\n",
       "      <td>12.298550</td>\n",
       "      <td>11.898252</td>\n",
       "      <td>12.444108</td>\n",
       "      <td>12.016086</td>\n",
       "      <td>8.006145</td>\n",
       "      <td>14.372490</td>\n",
       "      <td>7.9919</td>\n",
       "      <td>13.404813</td>\n",
       "    </tr>\n",
       "    <tr>\n",
       "      <th>4</th>\n",
       "      <td>12.524447</td>\n",
       "      <td>12.150723</td>\n",
       "      <td>8.01274</td>\n",
       "      <td>12.125975</td>\n",
       "      <td>14.394496</td>\n",
       "      <td>12.270167</td>\n",
       "      <td>14.586644</td>\n",
       "      <td>12.095072</td>\n",
       "      <td>12.218062</td>\n",
       "      <td>12.565055</td>\n",
       "      <td>...</td>\n",
       "      <td>12.298497</td>\n",
       "      <td>12.629847</td>\n",
       "      <td>12.423048</td>\n",
       "      <td>12.048099</td>\n",
       "      <td>12.607392</td>\n",
       "      <td>12.193489</td>\n",
       "      <td>8.006145</td>\n",
       "      <td>14.372448</td>\n",
       "      <td>7.9919</td>\n",
       "      <td>13.470183</td>\n",
       "    </tr>\n",
       "    <tr>\n",
       "      <th>...</th>\n",
       "      <td>...</td>\n",
       "      <td>...</td>\n",
       "      <td>...</td>\n",
       "      <td>...</td>\n",
       "      <td>...</td>\n",
       "      <td>...</td>\n",
       "      <td>...</td>\n",
       "      <td>...</td>\n",
       "      <td>...</td>\n",
       "      <td>...</td>\n",
       "      <td>...</td>\n",
       "      <td>...</td>\n",
       "      <td>...</td>\n",
       "      <td>...</td>\n",
       "      <td>...</td>\n",
       "      <td>...</td>\n",
       "      <td>...</td>\n",
       "      <td>...</td>\n",
       "      <td>...</td>\n",
       "      <td>...</td>\n",
       "      <td>...</td>\n",
       "    </tr>\n",
       "    <tr>\n",
       "      <th>995</th>\n",
       "      <td>0.508443</td>\n",
       "      <td>0.503210</td>\n",
       "      <td>8.01274</td>\n",
       "      <td>0.476889</td>\n",
       "      <td>0.473094</td>\n",
       "      <td>0.421698</td>\n",
       "      <td>0.523716</td>\n",
       "      <td>0.450529</td>\n",
       "      <td>0.469882</td>\n",
       "      <td>0.536931</td>\n",
       "      <td>...</td>\n",
       "      <td>0.482148</td>\n",
       "      <td>0.476177</td>\n",
       "      <td>0.556317</td>\n",
       "      <td>0.504170</td>\n",
       "      <td>0.487281</td>\n",
       "      <td>0.458055</td>\n",
       "      <td>8.006145</td>\n",
       "      <td>0.467260</td>\n",
       "      <td>7.9919</td>\n",
       "      <td>0.483476</td>\n",
       "    </tr>\n",
       "    <tr>\n",
       "      <th>996</th>\n",
       "      <td>0.508443</td>\n",
       "      <td>0.503210</td>\n",
       "      <td>8.01274</td>\n",
       "      <td>0.476889</td>\n",
       "      <td>0.473094</td>\n",
       "      <td>0.421692</td>\n",
       "      <td>0.523716</td>\n",
       "      <td>0.450514</td>\n",
       "      <td>0.469864</td>\n",
       "      <td>0.536931</td>\n",
       "      <td>...</td>\n",
       "      <td>0.482148</td>\n",
       "      <td>0.476124</td>\n",
       "      <td>0.556317</td>\n",
       "      <td>0.504170</td>\n",
       "      <td>0.487281</td>\n",
       "      <td>0.458055</td>\n",
       "      <td>8.006145</td>\n",
       "      <td>0.467260</td>\n",
       "      <td>7.9919</td>\n",
       "      <td>0.483464</td>\n",
       "    </tr>\n",
       "    <tr>\n",
       "      <th>997</th>\n",
       "      <td>0.508443</td>\n",
       "      <td>0.503210</td>\n",
       "      <td>8.01274</td>\n",
       "      <td>0.476889</td>\n",
       "      <td>0.473094</td>\n",
       "      <td>0.421687</td>\n",
       "      <td>0.523716</td>\n",
       "      <td>0.450498</td>\n",
       "      <td>0.469846</td>\n",
       "      <td>0.536931</td>\n",
       "      <td>...</td>\n",
       "      <td>0.482148</td>\n",
       "      <td>0.476071</td>\n",
       "      <td>0.556317</td>\n",
       "      <td>0.504170</td>\n",
       "      <td>0.487281</td>\n",
       "      <td>0.458055</td>\n",
       "      <td>8.006145</td>\n",
       "      <td>0.467260</td>\n",
       "      <td>7.9919</td>\n",
       "      <td>0.483452</td>\n",
       "    </tr>\n",
       "    <tr>\n",
       "      <th>998</th>\n",
       "      <td>0.508443</td>\n",
       "      <td>0.503210</td>\n",
       "      <td>8.01274</td>\n",
       "      <td>0.476889</td>\n",
       "      <td>0.473094</td>\n",
       "      <td>0.421682</td>\n",
       "      <td>0.523716</td>\n",
       "      <td>0.450484</td>\n",
       "      <td>0.469828</td>\n",
       "      <td>0.536931</td>\n",
       "      <td>...</td>\n",
       "      <td>0.482148</td>\n",
       "      <td>0.476019</td>\n",
       "      <td>0.556317</td>\n",
       "      <td>0.504170</td>\n",
       "      <td>0.487281</td>\n",
       "      <td>0.458055</td>\n",
       "      <td>8.006145</td>\n",
       "      <td>0.467260</td>\n",
       "      <td>7.9919</td>\n",
       "      <td>0.483440</td>\n",
       "    </tr>\n",
       "    <tr>\n",
       "      <th>999</th>\n",
       "      <td>0.508443</td>\n",
       "      <td>0.503210</td>\n",
       "      <td>8.01274</td>\n",
       "      <td>0.476889</td>\n",
       "      <td>0.473094</td>\n",
       "      <td>0.421677</td>\n",
       "      <td>0.523716</td>\n",
       "      <td>0.450469</td>\n",
       "      <td>0.469810</td>\n",
       "      <td>0.536931</td>\n",
       "      <td>...</td>\n",
       "      <td>0.482148</td>\n",
       "      <td>0.475967</td>\n",
       "      <td>0.556317</td>\n",
       "      <td>0.504170</td>\n",
       "      <td>0.487281</td>\n",
       "      <td>0.458055</td>\n",
       "      <td>8.006145</td>\n",
       "      <td>0.467260</td>\n",
       "      <td>7.9919</td>\n",
       "      <td>0.483428</td>\n",
       "    </tr>\n",
       "  </tbody>\n",
       "</table>\n",
       "<p>1000 rows × 75 columns</p>\n",
       "</div>"
      ],
      "text/plain": [
       "     prediction_25  prediction_26  prediction_27  prediction_28  \\\n",
       "0        11.922141      11.670760        8.01274      11.838618   \n",
       "1        12.065281      11.780246        8.01274      11.895417   \n",
       "2        12.213700      11.896721        8.01274      11.961257   \n",
       "3        12.366954      12.020239        8.01274      12.037586   \n",
       "4        12.524447      12.150723        8.01274      12.125975   \n",
       "..             ...            ...            ...            ...   \n",
       "995       0.508443       0.503210        8.01274       0.476889   \n",
       "996       0.508443       0.503210        8.01274       0.476889   \n",
       "997       0.508443       0.503210        8.01274       0.476889   \n",
       "998       0.508443       0.503210        8.01274       0.476889   \n",
       "999       0.508443       0.503210        8.01274       0.476889   \n",
       "\n",
       "     prediction_29  prediction_30  prediction_31  prediction_32  \\\n",
       "0        14.394559      11.945864      14.586664      11.772637   \n",
       "1        14.394545      12.006420      14.586659      11.837869   \n",
       "2        14.394530      12.079272      14.586654      11.912495   \n",
       "3        14.394513      12.166501      14.586649      11.997791   \n",
       "4        14.394496      12.270167      14.586644      12.095072   \n",
       "..             ...            ...            ...            ...   \n",
       "995       0.473094       0.421698       0.523716       0.450529   \n",
       "996       0.473094       0.421692       0.523716       0.450514   \n",
       "997       0.473094       0.421687       0.523716       0.450498   \n",
       "998       0.473094       0.421682       0.523716       0.450484   \n",
       "999       0.473094       0.421677       0.523716       0.450469   \n",
       "\n",
       "     prediction_33  prediction_34  ...  prediction_90  prediction_91  \\\n",
       "0        11.660980      12.082049  ...      11.854330      12.205647   \n",
       "1        11.797225      12.193780  ...      11.940935      12.305368   \n",
       "2        11.935600      12.311558  ...      12.042089      12.409235   \n",
       "3        12.075939      12.435365  ...      12.160333      12.517360   \n",
       "4        12.218062      12.565055  ...      12.298497      12.629847   \n",
       "..             ...            ...  ...            ...            ...   \n",
       "995       0.469882       0.536931  ...       0.482148       0.476177   \n",
       "996       0.469864       0.536931  ...       0.482148       0.476124   \n",
       "997       0.469846       0.536931  ...       0.482148       0.476071   \n",
       "998       0.469828       0.536931  ...       0.482148       0.476019   \n",
       "999       0.469810       0.536931  ...       0.482148       0.475967   \n",
       "\n",
       "     prediction_92  prediction_93  prediction_94  prediction_95  \\\n",
       "0        11.971238      11.501782      11.946703      11.638208   \n",
       "1        12.072687      11.625122      12.113189      11.741156   \n",
       "2        12.181750      11.757233      12.279181      11.866023   \n",
       "3        12.298550      11.898252      12.444108      12.016086   \n",
       "4        12.423048      12.048099      12.607392      12.193489   \n",
       "..             ...            ...            ...            ...   \n",
       "995       0.556317       0.504170       0.487281       0.458055   \n",
       "996       0.556317       0.504170       0.487281       0.458055   \n",
       "997       0.556317       0.504170       0.487281       0.458055   \n",
       "998       0.556317       0.504170       0.487281       0.458055   \n",
       "999       0.556317       0.504170       0.487281       0.458055   \n",
       "\n",
       "     prediction_96  prediction_97  prediction_98  prediction_99  \n",
       "0         8.006145      14.372602         7.9919      13.214000  \n",
       "1         8.006145      14.372567         7.9919      13.276665  \n",
       "2         8.006145      14.372530         7.9919      13.340283  \n",
       "3         8.006145      14.372490         7.9919      13.404813  \n",
       "4         8.006145      14.372448         7.9919      13.470183  \n",
       "..             ...            ...            ...            ...  \n",
       "995       8.006145       0.467260         7.9919       0.483476  \n",
       "996       8.006145       0.467260         7.9919       0.483464  \n",
       "997       8.006145       0.467260         7.9919       0.483452  \n",
       "998       8.006145       0.467260         7.9919       0.483440  \n",
       "999       8.006145       0.467260         7.9919       0.483428  \n",
       "\n",
       "[1000 rows x 75 columns]"
      ]
     },
     "execution_count": 21,
     "metadata": {},
     "output_type": "execute_result"
    }
   ],
   "source": [
    "prediction_file"
   ]
  },
  {
   "cell_type": "code",
   "execution_count": 32,
   "metadata": {},
   "outputs": [
    {
     "ename": "IndexError",
     "evalue": "single positional indexer is out-of-bounds",
     "output_type": "error",
     "traceback": [
      "\u001b[0;31m---------------------------------------------------------------------------\u001b[0m",
      "\u001b[0;31mIndexError\u001b[0m                                Traceback (most recent call last)",
      "\u001b[0;32m<ipython-input-32-3d0646b114f6>\u001b[0m in \u001b[0;36m<module>\u001b[0;34m\u001b[0m\n\u001b[1;32m      1\u001b[0m \u001b[0;32mfor\u001b[0m \u001b[0mi\u001b[0m \u001b[0;32min\u001b[0m \u001b[0mrange\u001b[0m\u001b[0;34m(\u001b[0m\u001b[0;36m25\u001b[0m\u001b[0;34m,\u001b[0m\u001b[0;36m90\u001b[0m\u001b[0;34m)\u001b[0m\u001b[0;34m:\u001b[0m\u001b[0;34m\u001b[0m\u001b[0;34m\u001b[0m\u001b[0m\n\u001b[0;32m----> 2\u001b[0;31m     \u001b[0mplt\u001b[0m\u001b[0;34m.\u001b[0m\u001b[0mplot\u001b[0m\u001b[0;34m(\u001b[0m\u001b[0mpredict_x\u001b[0m\u001b[0;34m,\u001b[0m \u001b[0mnp\u001b[0m\u001b[0;34m.\u001b[0m\u001b[0mexp\u001b[0m\u001b[0;34m(\u001b[0m\u001b[0mprediction_file\u001b[0m\u001b[0;34m.\u001b[0m\u001b[0miloc\u001b[0m\u001b[0;34m[\u001b[0m\u001b[0;34m:\u001b[0m\u001b[0;34m,\u001b[0m\u001b[0mi\u001b[0m\u001b[0;34m]\u001b[0m\u001b[0;34m)\u001b[0m\u001b[0;34m)\u001b[0m\u001b[0;34m\u001b[0m\u001b[0;34m\u001b[0m\u001b[0m\n\u001b[0m\u001b[1;32m      3\u001b[0m     \u001b[0mplt\u001b[0m\u001b[0;34m.\u001b[0m\u001b[0mxlim\u001b[0m\u001b[0;34m(\u001b[0m\u001b[0;34m[\u001b[0m\u001b[0;36m1\u001b[0m\u001b[0;34m,\u001b[0m \u001b[0;36m3\u001b[0m\u001b[0;34m]\u001b[0m\u001b[0;34m)\u001b[0m\u001b[0;34m\u001b[0m\u001b[0;34m\u001b[0m\u001b[0m\n\u001b[1;32m      4\u001b[0m     \u001b[0mplt\u001b[0m\u001b[0;34m.\u001b[0m\u001b[0mylim\u001b[0m\u001b[0;34m(\u001b[0m\u001b[0;34m[\u001b[0m\u001b[0;36m0\u001b[0m\u001b[0;34m,\u001b[0m \u001b[0;36m10000\u001b[0m\u001b[0;34m]\u001b[0m\u001b[0;34m)\u001b[0m\u001b[0;34m\u001b[0m\u001b[0;34m\u001b[0m\u001b[0m\n",
      "\u001b[0;32m~/opt/anaconda3/lib/python3.8/site-packages/pandas/core/indexing.py\u001b[0m in \u001b[0;36m__getitem__\u001b[0;34m(self, key)\u001b[0m\n\u001b[1;32m   1760\u001b[0m                 \u001b[0;32mexcept\u001b[0m \u001b[0;34m(\u001b[0m\u001b[0mKeyError\u001b[0m\u001b[0;34m,\u001b[0m \u001b[0mIndexError\u001b[0m\u001b[0;34m,\u001b[0m \u001b[0mAttributeError\u001b[0m\u001b[0;34m)\u001b[0m\u001b[0;34m:\u001b[0m\u001b[0;34m\u001b[0m\u001b[0;34m\u001b[0m\u001b[0m\n\u001b[1;32m   1761\u001b[0m                     \u001b[0;32mpass\u001b[0m\u001b[0;34m\u001b[0m\u001b[0;34m\u001b[0m\u001b[0m\n\u001b[0;32m-> 1762\u001b[0;31m             \u001b[0;32mreturn\u001b[0m \u001b[0mself\u001b[0m\u001b[0;34m.\u001b[0m\u001b[0m_getitem_tuple\u001b[0m\u001b[0;34m(\u001b[0m\u001b[0mkey\u001b[0m\u001b[0;34m)\u001b[0m\u001b[0;34m\u001b[0m\u001b[0;34m\u001b[0m\u001b[0m\n\u001b[0m\u001b[1;32m   1763\u001b[0m         \u001b[0;32melse\u001b[0m\u001b[0;34m:\u001b[0m\u001b[0;34m\u001b[0m\u001b[0;34m\u001b[0m\u001b[0m\n\u001b[1;32m   1764\u001b[0m             \u001b[0;31m# we by definition only have the 0th axis\u001b[0m\u001b[0;34m\u001b[0m\u001b[0;34m\u001b[0m\u001b[0;34m\u001b[0m\u001b[0m\n",
      "\u001b[0;32m~/opt/anaconda3/lib/python3.8/site-packages/pandas/core/indexing.py\u001b[0m in \u001b[0;36m_getitem_tuple\u001b[0;34m(self, tup)\u001b[0m\n\u001b[1;32m   2065\u001b[0m     \u001b[0;32mdef\u001b[0m \u001b[0m_getitem_tuple\u001b[0m\u001b[0;34m(\u001b[0m\u001b[0mself\u001b[0m\u001b[0;34m,\u001b[0m \u001b[0mtup\u001b[0m\u001b[0;34m:\u001b[0m \u001b[0mTuple\u001b[0m\u001b[0;34m)\u001b[0m\u001b[0;34m:\u001b[0m\u001b[0;34m\u001b[0m\u001b[0;34m\u001b[0m\u001b[0m\n\u001b[1;32m   2066\u001b[0m \u001b[0;34m\u001b[0m\u001b[0m\n\u001b[0;32m-> 2067\u001b[0;31m         \u001b[0mself\u001b[0m\u001b[0;34m.\u001b[0m\u001b[0m_has_valid_tuple\u001b[0m\u001b[0;34m(\u001b[0m\u001b[0mtup\u001b[0m\u001b[0;34m)\u001b[0m\u001b[0;34m\u001b[0m\u001b[0;34m\u001b[0m\u001b[0m\n\u001b[0m\u001b[1;32m   2068\u001b[0m         \u001b[0;32mtry\u001b[0m\u001b[0;34m:\u001b[0m\u001b[0;34m\u001b[0m\u001b[0;34m\u001b[0m\u001b[0m\n\u001b[1;32m   2069\u001b[0m             \u001b[0;32mreturn\u001b[0m \u001b[0mself\u001b[0m\u001b[0;34m.\u001b[0m\u001b[0m_getitem_lowerdim\u001b[0m\u001b[0;34m(\u001b[0m\u001b[0mtup\u001b[0m\u001b[0;34m)\u001b[0m\u001b[0;34m\u001b[0m\u001b[0;34m\u001b[0m\u001b[0m\n",
      "\u001b[0;32m~/opt/anaconda3/lib/python3.8/site-packages/pandas/core/indexing.py\u001b[0m in \u001b[0;36m_has_valid_tuple\u001b[0;34m(self, key)\u001b[0m\n\u001b[1;32m    701\u001b[0m                 \u001b[0;32mraise\u001b[0m \u001b[0mIndexingError\u001b[0m\u001b[0;34m(\u001b[0m\u001b[0;34m\"Too many indexers\"\u001b[0m\u001b[0;34m)\u001b[0m\u001b[0;34m\u001b[0m\u001b[0;34m\u001b[0m\u001b[0m\n\u001b[1;32m    702\u001b[0m             \u001b[0;32mtry\u001b[0m\u001b[0;34m:\u001b[0m\u001b[0;34m\u001b[0m\u001b[0;34m\u001b[0m\u001b[0m\n\u001b[0;32m--> 703\u001b[0;31m                 \u001b[0mself\u001b[0m\u001b[0;34m.\u001b[0m\u001b[0m_validate_key\u001b[0m\u001b[0;34m(\u001b[0m\u001b[0mk\u001b[0m\u001b[0;34m,\u001b[0m \u001b[0mi\u001b[0m\u001b[0;34m)\u001b[0m\u001b[0;34m\u001b[0m\u001b[0;34m\u001b[0m\u001b[0m\n\u001b[0m\u001b[1;32m    704\u001b[0m             \u001b[0;32mexcept\u001b[0m \u001b[0mValueError\u001b[0m\u001b[0;34m:\u001b[0m\u001b[0;34m\u001b[0m\u001b[0;34m\u001b[0m\u001b[0m\n\u001b[1;32m    705\u001b[0m                 raise ValueError(\n",
      "\u001b[0;32m~/opt/anaconda3/lib/python3.8/site-packages/pandas/core/indexing.py\u001b[0m in \u001b[0;36m_validate_key\u001b[0;34m(self, key, axis)\u001b[0m\n\u001b[1;32m   1992\u001b[0m             \u001b[0;32mreturn\u001b[0m\u001b[0;34m\u001b[0m\u001b[0;34m\u001b[0m\u001b[0m\n\u001b[1;32m   1993\u001b[0m         \u001b[0;32melif\u001b[0m \u001b[0mis_integer\u001b[0m\u001b[0;34m(\u001b[0m\u001b[0mkey\u001b[0m\u001b[0;34m)\u001b[0m\u001b[0;34m:\u001b[0m\u001b[0;34m\u001b[0m\u001b[0;34m\u001b[0m\u001b[0m\n\u001b[0;32m-> 1994\u001b[0;31m             \u001b[0mself\u001b[0m\u001b[0;34m.\u001b[0m\u001b[0m_validate_integer\u001b[0m\u001b[0;34m(\u001b[0m\u001b[0mkey\u001b[0m\u001b[0;34m,\u001b[0m \u001b[0maxis\u001b[0m\u001b[0;34m)\u001b[0m\u001b[0;34m\u001b[0m\u001b[0;34m\u001b[0m\u001b[0m\n\u001b[0m\u001b[1;32m   1995\u001b[0m         \u001b[0;32melif\u001b[0m \u001b[0misinstance\u001b[0m\u001b[0;34m(\u001b[0m\u001b[0mkey\u001b[0m\u001b[0;34m,\u001b[0m \u001b[0mtuple\u001b[0m\u001b[0;34m)\u001b[0m\u001b[0;34m:\u001b[0m\u001b[0;34m\u001b[0m\u001b[0;34m\u001b[0m\u001b[0m\n\u001b[1;32m   1996\u001b[0m             \u001b[0;31m# a tuple should already have been caught by this point\u001b[0m\u001b[0;34m\u001b[0m\u001b[0;34m\u001b[0m\u001b[0;34m\u001b[0m\u001b[0m\n",
      "\u001b[0;32m~/opt/anaconda3/lib/python3.8/site-packages/pandas/core/indexing.py\u001b[0m in \u001b[0;36m_validate_integer\u001b[0;34m(self, key, axis)\u001b[0m\n\u001b[1;32m   2061\u001b[0m         \u001b[0mlen_axis\u001b[0m \u001b[0;34m=\u001b[0m \u001b[0mlen\u001b[0m\u001b[0;34m(\u001b[0m\u001b[0mself\u001b[0m\u001b[0;34m.\u001b[0m\u001b[0mobj\u001b[0m\u001b[0;34m.\u001b[0m\u001b[0m_get_axis\u001b[0m\u001b[0;34m(\u001b[0m\u001b[0maxis\u001b[0m\u001b[0;34m)\u001b[0m\u001b[0;34m)\u001b[0m\u001b[0;34m\u001b[0m\u001b[0;34m\u001b[0m\u001b[0m\n\u001b[1;32m   2062\u001b[0m         \u001b[0;32mif\u001b[0m \u001b[0mkey\u001b[0m \u001b[0;34m>=\u001b[0m \u001b[0mlen_axis\u001b[0m \u001b[0;32mor\u001b[0m \u001b[0mkey\u001b[0m \u001b[0;34m<\u001b[0m \u001b[0;34m-\u001b[0m\u001b[0mlen_axis\u001b[0m\u001b[0;34m:\u001b[0m\u001b[0;34m\u001b[0m\u001b[0;34m\u001b[0m\u001b[0m\n\u001b[0;32m-> 2063\u001b[0;31m             \u001b[0;32mraise\u001b[0m \u001b[0mIndexError\u001b[0m\u001b[0;34m(\u001b[0m\u001b[0;34m\"single positional indexer is out-of-bounds\"\u001b[0m\u001b[0;34m)\u001b[0m\u001b[0;34m\u001b[0m\u001b[0;34m\u001b[0m\u001b[0m\n\u001b[0m\u001b[1;32m   2064\u001b[0m \u001b[0;34m\u001b[0m\u001b[0m\n\u001b[1;32m   2065\u001b[0m     \u001b[0;32mdef\u001b[0m \u001b[0m_getitem_tuple\u001b[0m\u001b[0;34m(\u001b[0m\u001b[0mself\u001b[0m\u001b[0;34m,\u001b[0m \u001b[0mtup\u001b[0m\u001b[0;34m:\u001b[0m \u001b[0mTuple\u001b[0m\u001b[0;34m)\u001b[0m\u001b[0;34m:\u001b[0m\u001b[0;34m\u001b[0m\u001b[0;34m\u001b[0m\u001b[0m\n",
      "\u001b[0;31mIndexError\u001b[0m: single positional indexer is out-of-bounds"
     ]
    },
    {
     "data": {
      "image/png": "[encoded data removed]",
      "text/plain": [
       "<Figure size 432x288 with 1 Axes>"
      ]
     },
     "metadata": {
      "needs_background": "light"
     },
     "output_type": "display_data"
    }
   ],
   "source": [
    "for i in range(25,90):\n",
    "    plt.plot(predict_x, np.exp(prediction_file.iloc[:,i]))\n",
    "    plt.xlim([1, 3])\n",
    "    plt.ylim([0, 10000])\n"
   ]
  },
  {
   "cell_type": "code",
   "execution_count": null,
   "metadata": {},
   "outputs": [],
   "source": []
  }
 ],
 "metadata": {
  "kernelspec": {
   "display_name": "Python 3",
   "language": "python",
   "name": "python3"
  },
  "language_info": {
   "codemirror_mode": {
    "name": "ipython",
    "version": 3
   },
   "file_extension": ".py",
   "mimetype": "text/x-python",
   "name": "python",
   "nbconvert_exporter": "python",
   "pygments_lexer": "ipython3",
   "version": "3.8.3"
  }
 },
 "nbformat": 4,
 "nbformat_minor": 4
}
