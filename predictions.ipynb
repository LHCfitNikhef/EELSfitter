{
 "cells": [
  {
   "cell_type": "markdown",
   "metadata": {},
   "source": [
    "## 0. Import relevant libraries"
   ]
  },
  {
   "cell_type": "code",
   "execution_count": 1,
   "metadata": {},
   "outputs": [
    {
     "name": "stdout",
     "output_type": "stream",
     "text": [
      "Importing packages...\n",
      "done\n"
     ]
    }
   ],
   "source": [
    "print('Importing packages...')\n",
    "\n",
    "import pandas as pd\n",
    "import glob\n",
    "import matplotlib.pyplot as plt\n",
    "import matplotlib\n",
    "from matplotlib import rc\n",
    "from copy import copy\n",
    "import numpy as np\n",
    "import pandas as pd\n",
    "import matplotlib.pyplot as plt\n",
    "import os\n",
    "import fnmatch\n",
    "import csv\n",
    "import pickle\n",
    "import warnings\n",
    "import scipy\n",
    "from scipy import optimize\n",
    "from scipy.optimize import leastsq\n",
    "from datetime import datetime\n",
    "from matplotlib import cm\n",
    "from lmfit import Model\n",
    "from scipy.optimize import curve_fit\n",
    "\n",
    "print('done')\n"
   ]
  },
  {
   "cell_type": "markdown",
   "metadata": {},
   "source": [
    "## 0. Import spectra"
   ]
  },
  {
   "cell_type": "code",
   "execution_count": 2,
   "metadata": {},
   "outputs": [
    {
     "name": "stdout",
     "output_type": "stream",
     "text": [
      "Files have been created \n",
      "\n",
      "\n",
      " Sample files:\n",
      "file14\n",
      "file15\n",
      "file16\n",
      "file19\n",
      "file20\n",
      "file21\n",
      "\n",
      " Vacuum files:\n",
      "file17\n",
      "file22\n",
      "file23\n",
      "\n",
      " Total samples file: \"df\" \n",
      "                   x             y     x_shifted        y_norm         log_y\n",
      "count  11886.000000  1.188600e+04  11886.000000  11886.000000  11886.000000\n",
      "mean      20.708500  2.943846e+04     20.750000      0.020192      8.097109\n",
      "std       14.297236  1.957346e+05     14.297236      0.134208      1.210722\n",
      "min       -4.041500  2.765300e+02     -4.000000      0.000190      5.622319\n",
      "25%        8.333500  1.351622e+03      8.375000      0.000932      7.209061\n",
      "50%       20.708500  3.076860e+03     20.750000      0.002106      8.031665\n",
      "75%       33.083500  5.665987e+03     33.125000      0.003879      8.642236\n",
      "max       45.458500  2.440470e+06     45.500000      1.640224     14.707701\n",
      "\n",
      " Total vacuum file: \"df_vacuum\" \n",
      "                  x             y    x_shifted       y_norm\n",
      "count  5943.000000  5.943000e+03  5943.000000  5943.000000\n",
      "mean     20.708500  3.373210e+04    20.750000     0.020192\n",
      "std      14.297837  2.576468e+05    14.297837     0.154224\n",
      "min      -4.041500 -1.340900e+02    -4.000000    -0.000080\n",
      "25%       8.333500  2.522015e+01     8.375000     0.000015\n",
      "50%      20.708500  7.105610e+01    20.750000     0.000042\n",
      "75%      33.083500  1.612730e+02    33.125000     0.000096\n",
      "max      45.458500  3.170580e+06    45.500000     1.887750\n"
     ]
    }
   ],
   "source": [
    "%run Functions.py\n",
    "%run Load_data.py"
   ]
  },
  {
   "cell_type": "markdown",
   "metadata": {},
   "source": [
    "## 1. Create dataframe with all individual spectra"
   ]
  },
  {
   "cell_type": "code",
   "execution_count": 3,
   "metadata": {},
   "outputs": [],
   "source": [
    "cols=['y14', 'x14', 'y15', 'x15', 'y16', 'x16', 'y17', 'x17', 'y19', 'x19', 'y20', 'x20', 'y21', 'x21', 'y22', 'x22', 'y23', 'x23']\n",
    "\n",
    "ZLP_data = pd.concat((file14, file15, file16, file17, file19, file20, file21, file22, file23), axis=1)\n",
    "ZLP_data = ZLP_data.drop(['x', 'y_norm'],axis=1).rename(columns={'x_shifted': 'x'})\n",
    "ZLP_data.columns = cols\n",
    "\n",
    "\n",
    "## Window the data file to the desired energy range\n",
    "E_min = -.3\n",
    "E_max = 20\n",
    "original = ZLP_data[(ZLP_data['x14'] >= E_min) & (ZLP_data['x14'] <= E_max)]\n"
   ]
  },
  {
   "cell_type": "markdown",
   "metadata": {},
   "source": [
    "## 2. Load results files"
   ]
  },
  {
   "cell_type": "markdown",
   "metadata": {},
   "source": [
    "### 2a. List files with x$_{train}$ and y$_{pred}$"
   ]
  },
  {
   "cell_type": "code",
   "execution_count": 14,
   "metadata": {},
   "outputs": [],
   "source": [
    "d_string = '07.09.2020'\n",
    "\n",
    "path_to_data = 'Data/Results/%(date)s/'% {\"date\": d_string} \n",
    "\n",
    "path_predict = r'Predictions_*.csv'\n",
    "path_cost = r'Cost_*.csv' \n",
    "path_extrapolate = path_4 = r'Extrapolation_*.csv'\n",
    "\n",
    "all_files = glob.glob(path_to_data + path_predict)\n",
    "\n",
    "li = []\n",
    "for filename in all_files:\n",
    "    df = pd.read_csv(filename, delimiter=\",\",  header=0, usecols=[0,1,2], names=['x', 'y', 'pred'])\n",
    "    li.append(df)\n",
    "    \n",
    "training_data = pd.concat(li, axis=0, ignore_index=True)"
   ]
  },
  {
   "cell_type": "markdown",
   "metadata": {},
   "source": [
    "### 2b.  Load all values for cost$_{train}$ and cost$_{val}$"
   ]
  },
  {
   "cell_type": "code",
   "execution_count": 15,
   "metadata": {},
   "outputs": [],
   "source": [
    "all_files_cost = glob.glob(path_to_data + path_cost)"
   ]
  },
  {
   "cell_type": "code",
   "execution_count": 16,
   "metadata": {},
   "outputs": [
    {
     "name": "stdout",
     "output_type": "stream",
     "text": [
      "total length of files: 100\n"
     ]
    }
   ],
   "source": [
    "all_files_cost_sorted = np.sort(all_files_cost)\n",
    "\n",
    "chi2_array = []\n",
    "chi2_index = []\n",
    "\n",
    "for filename in all_files_cost_sorted:\n",
    "    df = pd.read_csv(filename, delimiter=\",\", header=0, usecols=[0,1], names=['train', 'test'])\n",
    "    best_try = np.argmin(df['test'])\n",
    "    chi2_array.append(df.iloc[best_try,0])\n",
    "    chi2_index.append(best_try)\n",
    "\n",
    "chi_data  = pd.DataFrame()\n",
    "chi_data['Best chi2 value'] = chi2_array\n",
    "chi_data['Epoch'] = chi2_index\n",
    "    \n",
    "print(\"total length of files:\", len(chi2_array))"
   ]
  },
  {
   "cell_type": "code",
   "execution_count": 17,
   "metadata": {},
   "outputs": [
    {
     "data": {
      "image/png": "[encoded data removed]",
      "text/plain": [
       "<Figure size 432x288 with 1 Axes>"
      ]
     },
     "metadata": {
      "needs_background": "light"
     },
     "output_type": "display_data"
    }
   ],
   "source": [
    "plt.hist(chi_data['Best chi2 value'], density=True, bins=50, range=[0, 4])\n",
    "plt.title('title')\n",
    "plt.xlabel('Error')\n",
    "plt.title('$\\chi^2$ distribution for $N_{rep}$= %(s)s ' % {\"s\": len(chi2_array)}, fontsize=14)\n",
    "plt.xlabel('$\\chi^2$')\n",
    "plt.xlim([0, 3])\n",
    "plt.ylabel('Occurence', fontsize=14)\n",
    "plt.show()"
   ]
  },
  {
   "cell_type": "markdown",
   "metadata": {},
   "source": [
    "## 3. Post-selection criteria\n",
    "\n",
    "Remove all files that ended up with an error higher than a certain threshold."
   ]
  },
  {
   "cell_type": "code",
   "execution_count": 18,
   "metadata": {},
   "outputs": [
    {
     "name": "stdout",
     "output_type": "stream",
     "text": [
      "Setting the threshold at 3 , the number of files that survived the selection is 55\n"
     ]
    }
   ],
   "source": [
    "good_files = []\n",
    "count = 0\n",
    "threshold = 3\n",
    "\n",
    "for i,j in enumerate(chi2_array):\n",
    "    if j < threshold:\n",
    "        good_files.append(1) \n",
    "        count +=1 \n",
    "    else:\n",
    "        good_files.append(0)\n",
    "\n",
    "print(\"Setting the threshold at\", threshold, \", the number of files that survived the selection is\", count)"
   ]
  },
  {
   "cell_type": "markdown",
   "metadata": {},
   "source": [
    "## Load extrapolation data"
   ]
  },
  {
   "cell_type": "markdown",
   "metadata": {},
   "source": [
    "For each replica, the prediction should be taken separately:\\\n",
    "     $substracted\\_spectrum_k = original\\_spectrum - ZLP_k$"
   ]
  },
  {
   "cell_type": "code",
   "execution_count": 24,
   "metadata": {},
   "outputs": [
    {
     "name": "stdout",
     "output_type": "stream",
     "text": [
      "165\n"
     ]
    }
   ],
   "source": [
    "extrapolation_files = glob.glob(path_to_data + path_extrapolate)\n",
    "extrapolation_files_sorted = np.sort(extrapolation_files)\n",
    "use_files = []\n",
    "\n",
    "for i,j in enumerate(good_files):\n",
    "    if j == 1:\n",
    "        file = extrapolation_files_sorted[i]\n",
    "        use_files.append(file)\n",
    "        \n",
    "for filename in use_files:\n",
    "    df = pd.read_csv(filename, delimiter=\",\", header=None, usecols=[0,1], names=['x', 'prediction'])\n",
    "    df['k'] = count\n",
    "    li.append(df)\n",
    "    count += 1\n",
    "extrapolation = pd.concat(li, axis=0, ignore_index=True)\n",
    "\n",
    "print(count)        "
   ]
  },
  {
   "cell_type": "markdown",
   "metadata": {},
   "source": [
    "# All datafiles have been imported. \n",
    "### We can now move on to the evaluation of the ZLP predictions"
   ]
  },
  {
   "cell_type": "markdown",
   "metadata": {},
   "source": [
    "## 4. Subtraction"
   ]
  },
  {
   "cell_type": "code",
   "execution_count": 25,
   "metadata": {},
   "outputs": [
    {
     "name": "stdout",
     "output_type": "stream",
     "text": [
      "The values for dE0, dE1 and dE2: 1.38 1.88 12.0\n"
     ]
    }
   ],
   "source": [
    "dE1 = np.round(max(training_data['x'][(training_data['x']< 3)]),2)\n",
    "dE2 = np.round(min(training_data['x'][(training_data['x']> 3)]),1)\n",
    "dE0 = np.round(dE1 - .5, 2) \n",
    "\n",
    "print('The values for dE0, dE1 and dE2:', dE0, dE1, dE2)"
   ]
  },
  {
   "cell_type": "code",
   "execution_count": 26,
   "metadata": {},
   "outputs": [],
   "source": [
    "### Definition for the matching procedure\n",
    "\n",
    "def matching(x, y_NN, y_ZLP):\n",
    "    \n",
    "    total = pd.DataFrame({\"x\": x, \"prediction y\": y_NN, \"data ZLP\": y_ZLP})\n",
    "    \n",
    "    delta = np.divide((dE1 - dE0), 3)\n",
    "\n",
    "    factor_NN = np.exp(- np.divide((x[(x<dE1) & (x >= dE0)] - dE1)**2, delta**2))\n",
    "    factor_ZLP = 1 - factor_NN\n",
    "    \n",
    "    range_0 = total[total['x'] < dE0]['data ZLP'] * 1\n",
    "    range_1 = total[(total['x'] < dE1) & (total['x'] >= dE0)]['prediction y'] * factor_NN + total[(total['x'] < dE1) & (total['x'] >= dE0)]['data ZLP'] * factor_ZLP\n",
    "    range_2 = total[(total['x'] >= dE1) & (total['x'] < 3 * dE2)]['prediction y'] * 1 \n",
    "    range_3 = total[(total['x'] >= 3 * dE2)]['prediction y'] * 0\n",
    "    totalfile = np.concatenate((range_0, range_1, range_2, range_3), axis=0)\n",
    "    \n",
    "    return totalfile"
   ]
  },
  {
   "cell_type": "code",
   "execution_count": 27,
   "metadata": {},
   "outputs": [],
   "source": [
    "### Definition for the bandgap fitting\n",
    "\n",
    "def bandgap(x, amp, BG,b):\n",
    "    return amp * (x - BG)**(b)\n",
    "\n",
    "bmodel = Model(bandgap)\n"
   ]
  },
  {
   "cell_type": "markdown",
   "metadata": {},
   "source": [
    "### Below, we loop over all the replicas and create a big dataframe 'replica_file' that contains all predictions"
   ]
  },
  {
   "cell_type": "markdown",
   "metadata": {},
   "source": [
    "Since the arrays 'predict_x' and 'train_x' are not necessarily of the same length, we evaluate the prediction made for the vector predict_x by taking as many data points as the original spectra. This way we reshape the prediction such that we can directly subtract the predicted ZLP from the original spectrum.\n"
   ]
  },
  {
   "cell_type": "markdown",
   "metadata": {},
   "source": [
    "For each replica $k$, the NN gives a prediction on the ZLP: $ZLP_k$. The substracted spectrum at each iteration is then $Substraction_k = original\\_spectrum - ZLP_k$.  "
   ]
  },
  {
   "cell_type": "code",
   "execution_count": 30,
   "metadata": {},
   "outputs": [
    {
     "data": {
      "text/html": [
       "<div>\n",
       "<style scoped>\n",
       "    .dataframe tbody tr th:only-of-type {\n",
       "        vertical-align: middle;\n",
       "    }\n",
       "\n",
       "    .dataframe tbody tr th {\n",
       "        vertical-align: top;\n",
       "    }\n",
       "\n",
       "    .dataframe thead th {\n",
       "        text-align: right;\n",
       "    }\n",
       "</style>\n",
       "<table border=\"1\" class=\"dataframe\">\n",
       "  <thead>\n",
       "    <tr style=\"text-align: right;\">\n",
       "      <th></th>\n",
       "      <th>x</th>\n",
       "      <th>prediction</th>\n",
       "      <th>k</th>\n",
       "    </tr>\n",
       "  </thead>\n",
       "  <tbody>\n",
       "    <tr>\n",
       "      <th>count</th>\n",
       "      <td>163350.000000</td>\n",
       "      <td>163350.000000</td>\n",
       "      <td>163350.000000</td>\n",
       "    </tr>\n",
       "    <tr>\n",
       "      <th>mean</th>\n",
       "      <td>9.852534</td>\n",
       "      <td>2.331081</td>\n",
       "      <td>27.000000</td>\n",
       "    </tr>\n",
       "    <tr>\n",
       "      <th>std</th>\n",
       "      <td>5.860633</td>\n",
       "      <td>3.691392</td>\n",
       "      <td>15.874556</td>\n",
       "    </tr>\n",
       "    <tr>\n",
       "      <th>min</th>\n",
       "      <td>-0.294932</td>\n",
       "      <td>0.421677</td>\n",
       "      <td>0.000000</td>\n",
       "    </tr>\n",
       "    <tr>\n",
       "      <th>25%</th>\n",
       "      <td>4.777092</td>\n",
       "      <td>0.490954</td>\n",
       "      <td>13.000000</td>\n",
       "    </tr>\n",
       "    <tr>\n",
       "      <th>50%</th>\n",
       "      <td>9.852534</td>\n",
       "      <td>0.534412</td>\n",
       "      <td>27.000000</td>\n",
       "    </tr>\n",
       "    <tr>\n",
       "      <th>75%</th>\n",
       "      <td>14.927976</td>\n",
       "      <td>1.504792</td>\n",
       "      <td>41.000000</td>\n",
       "    </tr>\n",
       "    <tr>\n",
       "      <th>max</th>\n",
       "      <td>20.000000</td>\n",
       "      <td>14.844770</td>\n",
       "      <td>54.000000</td>\n",
       "    </tr>\n",
       "  </tbody>\n",
       "</table>\n",
       "</div>"
      ],
      "text/plain": [
       "                   x     prediction              k\n",
       "count  163350.000000  163350.000000  163350.000000\n",
       "mean        9.852534       2.331081      27.000000\n",
       "std         5.860633       3.691392      15.874556\n",
       "min        -0.294932       0.421677       0.000000\n",
       "25%         4.777092       0.490954      13.000000\n",
       "50%         9.852534       0.534412      27.000000\n",
       "75%        14.927976       1.504792      41.000000\n",
       "max        20.000000      14.844770      54.000000"
      ]
     },
     "execution_count": 30,
     "metadata": {},
     "output_type": "execute_result"
    }
   ],
   "source": [
    "nbins = len(original['x14'])\n",
    "li = []\n",
    "diff = []\n",
    "count = 0\n",
    "\n",
    "for filename in use_files:\n",
    "    df = pd.read_csv(filename, delimiter=\",\", header=None, usecols=[0,1], names=['x', 'prediction'])\n",
    "    df['k'] = count\n",
    "    li.append(df)\n",
    "    count += 1\n",
    "extrapolation = pd.concat(li, axis=0, ignore_index = True)\n",
    "\n",
    "### Window the prediction data to the same energy range as the original spectra\n",
    "    \n",
    "extrapolation = extrapolation[(extrapolation['x'] >= E_min) & (extrapolation['x'] <= E_max)]\n",
    "extrapolation.describe()"
   ]
  },
  {
   "cell_type": "code",
   "execution_count": 31,
   "metadata": {},
   "outputs": [],
   "source": [
    "lo = []\n",
    "\n",
    "for k in range(count): \n",
    "    exp_k = extrapolation[extrapolation['k'] == k ]\n",
    "    nbins = len(original['x14'])  \n",
    "    mean_k, var_k, count = binned_statistics(exp_k['x'], exp_k['prediction'], nbins)[0:3]\n",
    "    \n",
    "    replica_file = pd.DataFrame({\"k\": k, \\\n",
    "                                 \"x14\": original['x14'], \\\n",
    "                                 \"x15\": original['x15'], \\\n",
    "                                 \"x16\": original['x16'], \\\n",
    "                                 \"x19\": original['x19'], \\\n",
    "                                 \"x20\": original['x20'], \\\n",
    "                                 \"x21\": original['x21'],\\\n",
    "                                 #\n",
    "                               \"prediction log(y1)\": mean_k, \\\n",
    "                               \"prediction y\": np.exp(mean_k), \\\n",
    "                                 #\n",
    "                               \"data y14\": original['y14'], \\\n",
    "                               \"data y15\": original['y15'], \\\n",
    "                               \"data y16\": original['y16'], \\\n",
    "                               \"data y19\": original['y19'], \\\n",
    "                               \"data y20\": original['y20'], \\\n",
    "                               \"data y21\": original['y21'], \\\n",
    "                                #\n",
    "                                     \"match14\": matching(original['x14'], np.exp(mean_k), original['y14']), \\\n",
    "                                     \"match15\": matching(original['x15'], np.exp(mean_k), original['y15']), \\\n",
    "                                     \"match16\": matching(original['x16'], np.exp(mean_k), original['y16']), \\\n",
    "                                     \"match19\": matching(original['x19'], np.exp(mean_k), original['y19']), \\\n",
    "                                     \"match20\": matching(original['x20'], np.exp(mean_k), original['y20']), \\\n",
    "                                     \"match21\": matching(original['x21'], np.exp(mean_k), original['y21']), })\n",
    "    lo.append(replica_file)\n",
    "    \n",
    "total_replicas = pd.concat(lo, axis=0, ignore_index = True, sort=False)\n",
    "\n",
    "### Subtracted spectra:  difference = original spectrum - matched spectrum\n",
    "\n",
    "for i in ([14, 15, 16, 19, 20, 21]):\n",
    "    total_replicas['dif%(i)s'%{\"i\": i}] = total_replicas['data y%(i)s'%{\"i\": i}] - total_replicas['match%(i)s'%{\"i\": i}]\n",
    "\n",
    "#total_replicas.to_csv('Data/Results/Replica_files/final_%(s)s' % {\"s\": dE1})"
   ]
  },
  {
   "cell_type": "code",
   "execution_count": 32,
   "metadata": {},
   "outputs": [
    {
     "data": {
      "text/html": [
       "<div>\n",
       "<style scoped>\n",
       "    .dataframe tbody tr th:only-of-type {\n",
       "        vertical-align: middle;\n",
       "    }\n",
       "\n",
       "    .dataframe tbody tr th {\n",
       "        vertical-align: top;\n",
       "    }\n",
       "\n",
       "    .dataframe thead th {\n",
       "        text-align: right;\n",
       "    }\n",
       "</style>\n",
       "<table border=\"1\" class=\"dataframe\">\n",
       "  <thead>\n",
       "    <tr style=\"text-align: right;\">\n",
       "      <th></th>\n",
       "      <th>k</th>\n",
       "      <th>x14</th>\n",
       "      <th>x15</th>\n",
       "      <th>x16</th>\n",
       "      <th>x19</th>\n",
       "      <th>x20</th>\n",
       "      <th>x21</th>\n",
       "      <th>prediction log(y1)</th>\n",
       "      <th>prediction y</th>\n",
       "      <th>data y14</th>\n",
       "      <th>...</th>\n",
       "      <th>match16</th>\n",
       "      <th>match19</th>\n",
       "      <th>match20</th>\n",
       "      <th>match21</th>\n",
       "      <th>dif14</th>\n",
       "      <th>dif15</th>\n",
       "      <th>dif16</th>\n",
       "      <th>dif19</th>\n",
       "      <th>dif20</th>\n",
       "      <th>dif21</th>\n",
       "    </tr>\n",
       "  </thead>\n",
       "  <tbody>\n",
       "    <tr>\n",
       "      <th>count</th>\n",
       "      <td>44715.000000</td>\n",
       "      <td>44715.000000</td>\n",
       "      <td>44715.000000</td>\n",
       "      <td>44715.000000</td>\n",
       "      <td>44715.000000</td>\n",
       "      <td>44715.000000</td>\n",
       "      <td>44715.000000</td>\n",
       "      <td>44715.000000</td>\n",
       "      <td>4.471500e+04</td>\n",
       "      <td>4.471500e+04</td>\n",
       "      <td>...</td>\n",
       "      <td>4.471500e+04</td>\n",
       "      <td>4.471500e+04</td>\n",
       "      <td>4.471500e+04</td>\n",
       "      <td>4.471500e+04</td>\n",
       "      <td>44715.000000</td>\n",
       "      <td>44715.000000</td>\n",
       "      <td>44715.000000</td>\n",
       "      <td>44715.000000</td>\n",
       "      <td>44715.000000</td>\n",
       "      <td>44715.000000</td>\n",
       "    </tr>\n",
       "    <tr>\n",
       "      <th>mean</th>\n",
       "      <td>27.000000</td>\n",
       "      <td>9.850000</td>\n",
       "      <td>9.850000</td>\n",
       "      <td>9.850000</td>\n",
       "      <td>9.850000</td>\n",
       "      <td>9.850000</td>\n",
       "      <td>9.850000</td>\n",
       "      <td>2.329490</td>\n",
       "      <td>6.097862e+04</td>\n",
       "      <td>6.505895e+04</td>\n",
       "      <td>...</td>\n",
       "      <td>6.111024e+04</td>\n",
       "      <td>5.874605e+04</td>\n",
       "      <td>6.021002e+04</td>\n",
       "      <td>6.284863e+04</td>\n",
       "      <td>3460.525932</td>\n",
       "      <td>3546.323045</td>\n",
       "      <td>3424.522626</td>\n",
       "      <td>3620.558587</td>\n",
       "      <td>3536.713946</td>\n",
       "      <td>3310.250867</td>\n",
       "    </tr>\n",
       "    <tr>\n",
       "      <th>std</th>\n",
       "      <td>15.874685</td>\n",
       "      <td>5.867383</td>\n",
       "      <td>5.867383</td>\n",
       "      <td>5.867383</td>\n",
       "      <td>5.867383</td>\n",
       "      <td>5.867383</td>\n",
       "      <td>5.867383</td>\n",
       "      <td>3.689080</td>\n",
       "      <td>3.050686e+05</td>\n",
       "      <td>3.056152e+05</td>\n",
       "      <td>...</td>\n",
       "      <td>3.043153e+05</td>\n",
       "      <td>2.914676e+05</td>\n",
       "      <td>2.992310e+05</td>\n",
       "      <td>3.133133e+05</td>\n",
       "      <td>1795.239843</td>\n",
       "      <td>1896.786303</td>\n",
       "      <td>1800.351434</td>\n",
       "      <td>2024.722692</td>\n",
       "      <td>1936.219823</td>\n",
       "      <td>1646.590514</td>\n",
       "    </tr>\n",
       "    <tr>\n",
       "      <th>min</th>\n",
       "      <td>0.000000</td>\n",
       "      <td>-0.300000</td>\n",
       "      <td>-0.300000</td>\n",
       "      <td>-0.300000</td>\n",
       "      <td>-0.300000</td>\n",
       "      <td>-0.300000</td>\n",
       "      <td>-0.300000</td>\n",
       "      <td>0.421679</td>\n",
       "      <td>1.524519e+00</td>\n",
       "      <td>2.145750e+03</td>\n",
       "      <td>...</td>\n",
       "      <td>1.524519e+00</td>\n",
       "      <td>1.524519e+00</td>\n",
       "      <td>1.524519e+00</td>\n",
       "      <td>1.524519e+00</td>\n",
       "      <td>-1066.974089</td>\n",
       "      <td>-1229.466289</td>\n",
       "      <td>-1343.857545</td>\n",
       "      <td>-1554.833706</td>\n",
       "      <td>-1407.904089</td>\n",
       "      <td>-897.231051</td>\n",
       "    </tr>\n",
       "    <tr>\n",
       "      <th>25%</th>\n",
       "      <td>13.000000</td>\n",
       "      <td>4.775000</td>\n",
       "      <td>4.775000</td>\n",
       "      <td>4.775000</td>\n",
       "      <td>4.775000</td>\n",
       "      <td>4.775000</td>\n",
       "      <td>4.775000</td>\n",
       "      <td>0.490954</td>\n",
       "      <td>1.633875e+00</td>\n",
       "      <td>3.084790e+03</td>\n",
       "      <td>...</td>\n",
       "      <td>1.633875e+00</td>\n",
       "      <td>1.633875e+00</td>\n",
       "      <td>1.633875e+00</td>\n",
       "      <td>1.633875e+00</td>\n",
       "      <td>2738.005418</td>\n",
       "      <td>2890.248531</td>\n",
       "      <td>2710.888139</td>\n",
       "      <td>2749.128950</td>\n",
       "      <td>2729.877855</td>\n",
       "      <td>2794.830193</td>\n",
       "    </tr>\n",
       "    <tr>\n",
       "      <th>50%</th>\n",
       "      <td>27.000000</td>\n",
       "      <td>9.850000</td>\n",
       "      <td>9.850000</td>\n",
       "      <td>9.850000</td>\n",
       "      <td>9.850000</td>\n",
       "      <td>9.850000</td>\n",
       "      <td>9.850000</td>\n",
       "      <td>0.534426</td>\n",
       "      <td>1.706469e+00</td>\n",
       "      <td>3.557280e+03</td>\n",
       "      <td>...</td>\n",
       "      <td>1.706469e+00</td>\n",
       "      <td>1.706469e+00</td>\n",
       "      <td>1.706469e+00</td>\n",
       "      <td>1.706469e+00</td>\n",
       "      <td>3309.721386</td>\n",
       "      <td>3311.202275</td>\n",
       "      <td>3255.996511</td>\n",
       "      <td>3352.962086</td>\n",
       "      <td>3334.486616</td>\n",
       "      <td>3134.741350</td>\n",
       "    </tr>\n",
       "    <tr>\n",
       "      <th>75%</th>\n",
       "      <td>41.000000</td>\n",
       "      <td>14.925000</td>\n",
       "      <td>14.925000</td>\n",
       "      <td>14.925000</td>\n",
       "      <td>14.925000</td>\n",
       "      <td>14.925000</td>\n",
       "      <td>14.925000</td>\n",
       "      <td>1.503690</td>\n",
       "      <td>4.498258e+00</td>\n",
       "      <td>5.702870e+03</td>\n",
       "      <td>...</td>\n",
       "      <td>4.498258e+00</td>\n",
       "      <td>4.498258e+00</td>\n",
       "      <td>4.498258e+00</td>\n",
       "      <td>4.498258e+00</td>\n",
       "      <td>4639.533071</td>\n",
       "      <td>4690.352471</td>\n",
       "      <td>4601.242734</td>\n",
       "      <td>4907.732467</td>\n",
       "      <td>4730.362475</td>\n",
       "      <td>4339.472474</td>\n",
       "    </tr>\n",
       "    <tr>\n",
       "      <th>max</th>\n",
       "      <td>54.000000</td>\n",
       "      <td>20.000000</td>\n",
       "      <td>20.000000</td>\n",
       "      <td>20.000000</td>\n",
       "      <td>20.000000</td>\n",
       "      <td>20.000000</td>\n",
       "      <td>20.000000</td>\n",
       "      <td>14.836666</td>\n",
       "      <td>2.776401e+06</td>\n",
       "      <td>2.377200e+06</td>\n",
       "      <td>...</td>\n",
       "      <td>2.360060e+06</td>\n",
       "      <td>2.255460e+06</td>\n",
       "      <td>2.327880e+06</td>\n",
       "      <td>2.440470e+06</td>\n",
       "      <td>6939.015389</td>\n",
       "      <td>7631.415470</td>\n",
       "      <td>7091.705273</td>\n",
       "      <td>7600.534704</td>\n",
       "      <td>7536.045236</td>\n",
       "      <td>6811.865022</td>\n",
       "    </tr>\n",
       "  </tbody>\n",
       "</table>\n",
       "<p>8 rows × 27 columns</p>\n",
       "</div>"
      ],
      "text/plain": [
       "                  k           x14           x15           x16           x19  \\\n",
       "count  44715.000000  44715.000000  44715.000000  44715.000000  44715.000000   \n",
       "mean      27.000000      9.850000      9.850000      9.850000      9.850000   \n",
       "std       15.874685      5.867383      5.867383      5.867383      5.867383   \n",
       "min        0.000000     -0.300000     -0.300000     -0.300000     -0.300000   \n",
       "25%       13.000000      4.775000      4.775000      4.775000      4.775000   \n",
       "50%       27.000000      9.850000      9.850000      9.850000      9.850000   \n",
       "75%       41.000000     14.925000     14.925000     14.925000     14.925000   \n",
       "max       54.000000     20.000000     20.000000     20.000000     20.000000   \n",
       "\n",
       "                x20           x21  prediction log(y1)  prediction y  \\\n",
       "count  44715.000000  44715.000000        44715.000000  4.471500e+04   \n",
       "mean       9.850000      9.850000            2.329490  6.097862e+04   \n",
       "std        5.867383      5.867383            3.689080  3.050686e+05   \n",
       "min       -0.300000     -0.300000            0.421679  1.524519e+00   \n",
       "25%        4.775000      4.775000            0.490954  1.633875e+00   \n",
       "50%        9.850000      9.850000            0.534426  1.706469e+00   \n",
       "75%       14.925000     14.925000            1.503690  4.498258e+00   \n",
       "max       20.000000     20.000000           14.836666  2.776401e+06   \n",
       "\n",
       "           data y14  ...       match16       match19       match20  \\\n",
       "count  4.471500e+04  ...  4.471500e+04  4.471500e+04  4.471500e+04   \n",
       "mean   6.505895e+04  ...  6.111024e+04  5.874605e+04  6.021002e+04   \n",
       "std    3.056152e+05  ...  3.043153e+05  2.914676e+05  2.992310e+05   \n",
       "min    2.145750e+03  ...  1.524519e+00  1.524519e+00  1.524519e+00   \n",
       "25%    3.084790e+03  ...  1.633875e+00  1.633875e+00  1.633875e+00   \n",
       "50%    3.557280e+03  ...  1.706469e+00  1.706469e+00  1.706469e+00   \n",
       "75%    5.702870e+03  ...  4.498258e+00  4.498258e+00  4.498258e+00   \n",
       "max    2.377200e+06  ...  2.360060e+06  2.255460e+06  2.327880e+06   \n",
       "\n",
       "            match21         dif14         dif15         dif16         dif19  \\\n",
       "count  4.471500e+04  44715.000000  44715.000000  44715.000000  44715.000000   \n",
       "mean   6.284863e+04   3460.525932   3546.323045   3424.522626   3620.558587   \n",
       "std    3.133133e+05   1795.239843   1896.786303   1800.351434   2024.722692   \n",
       "min    1.524519e+00  -1066.974089  -1229.466289  -1343.857545  -1554.833706   \n",
       "25%    1.633875e+00   2738.005418   2890.248531   2710.888139   2749.128950   \n",
       "50%    1.706469e+00   3309.721386   3311.202275   3255.996511   3352.962086   \n",
       "75%    4.498258e+00   4639.533071   4690.352471   4601.242734   4907.732467   \n",
       "max    2.440470e+06   6939.015389   7631.415470   7091.705273   7600.534704   \n",
       "\n",
       "              dif20         dif21  \n",
       "count  44715.000000  44715.000000  \n",
       "mean    3536.713946   3310.250867  \n",
       "std     1936.219823   1646.590514  \n",
       "min    -1407.904089   -897.231051  \n",
       "25%     2729.877855   2794.830193  \n",
       "50%     3334.486616   3134.741350  \n",
       "75%     4730.362475   4339.472474  \n",
       "max     7536.045236   6811.865022  \n",
       "\n",
       "[8 rows x 27 columns]"
      ]
     },
     "execution_count": 32,
     "metadata": {},
     "output_type": "execute_result"
    }
   ],
   "source": [
    "total_replicas.describe()"
   ]
  },
  {
   "cell_type": "markdown",
   "metadata": {},
   "source": [
    "## 5. Evaluate subtracted spectra"
   ]
  },
  {
   "cell_type": "code",
   "execution_count": 33,
   "metadata": {},
   "outputs": [
    {
     "name": "stderr",
     "output_type": "stream",
     "text": [
      "<ipython-input-33-95f4fc38ce79>:11: SettingWithCopyWarning: \n",
      "A value is trying to be set on a copy of a slice from a DataFrame\n",
      "\n",
      "See the caveats in the documentation: https://pandas.pydata.org/pandas-docs/stable/user_guide/indexing.html#returning-a-view-versus-a-copy\n",
      "  total_replicas.loc[:, 'dif14'][total_replicas.loc[:, 'dif14'] < 0] = 0\n"
     ]
    }
   ],
   "source": [
    "mean_rep = pd.DataFrame()\n",
    "total_bins = len(original['x14'])\n",
    "\n",
    "mean_pred, sigma_pred = \\\n",
    "    binned_statistics(total_replicas['x14'], total_replicas['prediction y'], nbins)[0:2]\n",
    "\n",
    "pred_high, pred_low = binned_statistics(total_replicas['x14'], total_replicas['prediction y'], nbins)[3:5]\n",
    "\n",
    "mean_rep['x'] = np.linspace(E_min, E_max, nbins)\n",
    "mean_rep['pred'] = mean_pred\n",
    "mean_rep['pred_high'], mean_rep['pred_low'] = pred_high, pred_low\n",
    "total_replicas.loc[:, 'dif14'][total_replicas.loc[:, 'dif14'] < 0] = 0\n",
    "wl = 4\n",
    "\n",
    "for i in ([14, 15, 16, 19, 20, 21]):\n",
    "    mean_dif, var_dif =  binned_statistics(total_replicas['x%(i)s'%{\"i\":i}], \n",
    "                                           total_replicas['dif%(i)s'%{\"i\":i}], total_bins)[0:2]\n",
    "    dif_high, dif_low =  binned_statistics(total_replicas['x%(i)s'%{\"i\":i}], \n",
    "                                           total_replicas['dif%(i)s'%{\"i\":i}], total_bins)[3:5]\n",
    "    dif_median = get_median(total_replicas['x%(i)s'%{\"i\":i}], \n",
    "                                           total_replicas['dif%(i)s'%{\"i\":i}], total_bins)\n",
    "    \n",
    "    mean_rep['dif%(i)s'%{\"i\":i}],mean_rep['sigma_dif%(i)s'%{\"i\":i}] = smooth(mean_dif, wl), smooth(var_dif, wl)\n",
    "    mean_rep['dif%(i)s_high'%{\"i\":i}],mean_rep['dif%(i)s_low'%{\"i\":i}] = \\\n",
    "                                            smooth(dif_high, wl),smooth(dif_low, wl)\n",
    "    mean_rep['dif%(i)s_median'%{\"i\":i}] = smooth(dif_median, wl)\n",
    "    \n",
    "    mean_match, var_match = binned_statistics(total_replicas['x%(i)s'%{\"i\":i}], \n",
    "                                           total_replicas['match%(i)s'%{\"i\":i}], total_bins)[0:2]\n",
    "    match_high, match_low =  binned_statistics(total_replicas['x%(i)s'%{\"i\":i}], \n",
    "                                           total_replicas['match%(i)s'%{\"i\":i}], total_bins)[3:5]\n",
    "    \n",
    "    match_median = get_median(total_replicas['x%(i)s'%{\"i\":i}], \n",
    "                                           total_replicas['match%(i)s'%{\"i\":i}], total_bins)\n",
    "    \n",
    "    mean_rep['match%(i)s'%{\"i\":i}], mean_rep['sigma_match%(i)s'%{\"i\":i}] = \\\n",
    "                                            smooth(mean_match, wl), smooth(var_match, wl)\n",
    "    mean_rep['match%(i)s_high'%{\"i\":i}], mean_rep['match%(i)s_low'%{\"i\":i}] = \\\n",
    "                                            smooth(match_high, wl), smooth(match_low, wl)\n",
    "    mean_rep['match%(i)s_median'%{\"i\":i}] = smooth(match_median, wl)\n",
    "    \n",
    "    mean_rep['spectrum%(i)s'%{\"i\":i}] = smooth(original['y%(i)s'%{\"i\":i}], wl)"
   ]
  },
  {
   "cell_type": "code",
   "execution_count": 34,
   "metadata": {},
   "outputs": [
    {
     "name": "stderr",
     "output_type": "stream",
     "text": [
      "findfont: Font family ['sans-serif'] not found. Falling back to DejaVu Sans.\n",
      "findfont: Font family ['sans-serif'] not found. Falling back to DejaVu Sans.\n",
      "findfont: Font family ['sans-serif'] not found. Falling back to DejaVu Sans.\n",
      "findfont: Font family ['sans-serif'] not found. Falling back to DejaVu Sans.\n"
     ]
    },
    {
     "data": {
      "image/png": "[encoded data removed]",
      "text/plain": [
       "<Figure size 648x504 with 1 Axes>"
      ]
     },
     "metadata": {
      "needs_background": "light"
     },
     "output_type": "display_data"
    }
   ],
   "source": [
    "nrows, ncols = 1,1\n",
    "gs = matplotlib.gridspec.GridSpec(nrows,ncols)\n",
    "plt.figure(figsize=(ncols*9,nrows*7))\n",
    "\n",
    "cm_subsection = np.linspace(0,1,24) \n",
    "colors = plt.rcParams['axes.prop_cycle'].by_key()['color']\n",
    "\n",
    "hfont = rc('font',**{'family':'sans-serif','sans-serif':['Sans Serif']})\n",
    "\n",
    "for i in range(1):\n",
    "    ax = plt.subplot(gs[i])\n",
    "    ax.set_xlim([1,5])\n",
    "    ax.set_ylim([-1e3,1e4])\n",
    "    ax.set_ylabel('Intensity (a.u.)', fontsize=18)\n",
    "    ax.set_xlabel('Energy loss (eV)', fontsize=18)\n",
    "    \n",
    "    ax.tick_params(which='major',direction='in',length=10, labelsize=16)\n",
    "    ax.tick_params(which='minor',length=10)\n",
    "    ax.set_xticks([1, 2, 3, 4, 5])\n",
    "    \n",
    "    ax.plot(np.linspace(E_min, E_max, nbins), mean_rep['spectrum14'], 'k--', label='Raw spectrum 14')\n",
    "    ax.plot(np.linspace(E_min, E_max, nbins), mean_rep['match14_median'], color=colors[1], label='Predicted ZLP')\n",
    "    ax.fill_between(np.linspace(E_min, E_max, nbins), mean_rep['match14_low'], mean_rep['match14_high'], \\\n",
    "                    color=colors[1], alpha=.2)\n",
    "    \n",
    "    ax.plot(np.linspace(E_min, E_max, nbins), mean_rep['dif14_median'], color=colors[0], label='Subtracted spectrum')\n",
    "    ax.fill_between(np.linspace(E_min, E_max, nbins), mean_rep['dif14_low'], mean_rep['dif14_high'], color=colors[0], alpha=.2)\n",
    "    \n",
    "\n",
    "    ax.legend(loc='upper left', fontsize = 14)\n",
    "    \n",
    "    axins = ax.inset_axes([0.50, 0.5, 0.5, 0.45])\n",
    "    \n",
    "    axins.get_xaxis().set_visible(True)\n",
    "    axins.get_yaxis().set_visible(True)\n",
    "    axins.spines['right'].set_visible(True)\n",
    "    axins.spines['top'].set_visible(True)\n",
    "    axins.set_xticks([1, 2, 3, 4])\n",
    "    axins.set_xlim([1,4])\n",
    "    axins.set_ylim([-1e3, 5e3])\n",
    "    \n",
    "    axins.plot(np.linspace(E_min, E_max, nbins), mean_rep['dif14_median'], 'k-', alpha=.8, label='Subtracted spectrum')\n",
    "    axins.fill_between(np.linspace(E_min, E_max, nbins), mean_rep['dif14_low'], \\\n",
    "                       mean_rep['dif14_high'], color='black', alpha=.1)\n",
    "    axins.tick_params(which='both',direction='in', labelsize=12,right=True)\n",
    "    axins.tick_params(which='major',length=10)\n",
    "    axins.tick_params(which='minor',length=10)\n",
    "    axins.set_yticks([])\n",
    "    axins.legend(loc='upper left', fontsize=12, frameon=False)\n"
   ]
  },
  {
   "cell_type": "markdown",
   "metadata": {},
   "source": [
    "## Bandgap fit\n",
    "\n",
    "Bandgap fit still depends on many parameters. \n",
    "Specifically 'E_lim' is of big influence on the value for b. "
   ]
  },
  {
   "cell_type": "code",
   "execution_count": null,
   "metadata": {},
   "outputs": [],
   "source": [
    "plt.plot(mean_rep['x'], mean_rep['dif14_median'], 'k-', alpha=.8, label='Subtracted spectrum')\n",
    "plt.fill_between(np.linspace(-.3, 20, nbins), mean_rep['dif14_low'], \\\n",
    "                       mean_rep['dif14_high'], color='black', alpha=.1)\n",
    "plt.xlim([1,4])\n",
    "plt.ylim([-100,4000])\n",
    "\n",
    "E_lim = 2.5\n",
    "bandgap_file = mean_rep[(mean_rep['x'] > 0) & (mean_rep['x']<E_lim) &\\\n",
    "                               (mean_rep['dif14'] >= 20)]\n",
    "bandgap_file = bandgap_file.dropna()\n",
    "\n",
    "pars, cov = curve_fit(f=bandgap, xdata=bandgap_file['x'], \\\n",
    "                                  ydata= (bandgap_file['dif14']),\\\n",
    "                          p0=[100,0,.5], bounds=([0, 0, 0], [100000, 40, 10]), max_nfev=10000)\n",
    "\n",
    "pars_high, cov = curve_fit(f=bandgap, xdata=bandgap_file['x'], \\\n",
    "                                  ydata= (bandgap_file['dif14_high']),\\\n",
    "                          p0=[100,0,.5], bounds=([0, 0, 0], [100000, 40, 10]), max_nfev=10000)\n",
    "\n",
    "pars_low, cov = curve_fit(f=bandgap, xdata=bandgap_file['x'], \\\n",
    "                                  ydata= (bandgap_file['dif14_low']),\\\n",
    "                          p0=[100,0,.5], bounds=([0, 0, 0], [100000, 40, 10]), max_nfev=10000)\n",
    "\n",
    "plt.axvline(x=E_lim, linestyle='--')\n",
    "\n",
    "def bandgap(x, amp, BG, b):\n",
    "    return amp * (x - BG)**(b)\n",
    "\n",
    "print('E_bg', pars[1])\n",
    "print('b:', pars[2],', b_high:', pars_high[2], ', b_low:',pars_low[2])\n",
    "\n",
    "x=np.linspace(0,2.7,100)\n",
    "plt.plot(x, bandgap(x, *pars), color='red')\n",
    "plt.plot()"
   ]
  }
 ],
 "metadata": {
  "kernelspec": {
   "display_name": "Python 3",
   "language": "python",
   "name": "python3"
  },
  "language_info": {
   "codemirror_mode": {
    "name": "ipython",
    "version": 3
   },
   "file_extension": ".py",
   "mimetype": "text/x-python",
   "name": "python",
   "nbconvert_exporter": "python",
   "pygments_lexer": "ipython3",
   "version": "3.8.3"
  }
 },
 "nbformat": 4,
 "nbformat_minor": 2
}
